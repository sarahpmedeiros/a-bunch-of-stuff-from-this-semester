{
 "cells": [
  {
   "cell_type": "markdown",
   "metadata": {},
   "source": [
    "# MapReduce with mrjob"
   ]
  },
  {
   "cell_type": "markdown",
   "metadata": {},
   "source": [
    "In this assignment, we will write multi-step MapReduce jobs Python using [mrjob](https://pythonhosted.org/mrjob/). First, we will test it on our local machine and then run it on Amazon AWS.\n",
    "\n",
    "We will use the [Yelp reviews dataset](https://drive.google.com/a/bu.edu/file/d/0B4bdB5WPHGsqcmJMNmxzQmQ3aTQ/view?usp=sharing) from Assignment 2.\n",
    "\n",
    "This assignment should be completed **individually**."
   ]
  },
  {
   "cell_type": "markdown",
   "metadata": {},
   "source": [
    "----------------------------------------"
   ]
  },
  {
   "cell_type": "markdown",
   "metadata": {},
   "source": [
    "## Apply for AWS Educate Account (do this now!)"
   ]
  },
  {
   "cell_type": "markdown",
   "metadata": {},
   "source": [
    "It is extremely important that you apply for an \"AWS Educate\" account right away to get $100 free credit, and verify that the credit has been properly applied to your account.\n",
    "\n",
    "* Go to https://www.awseducate.com/Application\n",
    "* Choose **Student** and click **Next**\n",
    "* Fill out the application\n",
    "\n",
    "We recommend selecting an AWS Educate Starter Account. If, instead, you want to use an AWS Account ID, it is important that you set up a billing alarm on AWS to notify you when your credits are running low.\n",
    "\n",
    "Remember to shut down **everything** when you're done with the instances, or you may get surprising bills."
   ]
  },
  {
   "cell_type": "markdown",
   "metadata": {},
   "source": [
    "----------------------------------------"
   ]
  },
  {
   "cell_type": "markdown",
   "metadata": {},
   "source": [
    "## Task 1: Word Count"
   ]
  },
  {
   "cell_type": "markdown",
   "metadata": {},
   "source": [
    "Write a mapper and reducer that yield the total uses of a word across all reviews. (**5pts**)\n",
    "\n",
    "In the map step, we want to extract words from the text of reviews. Then, count the words in each review. In the reduce step, summarize all the counts by taking the sum.\n",
    "\n",
    "A recap of how to use mrjob: https://pythonhosted.org/mrjob/guides/quickstart.html\n",
    "\n",
    "Note, when you are testing it on a local machine, you may only want to run a subset of the dataset."
   ]
  },
  {
   "cell_type": "markdown",
   "metadata": {},
   "source": [
    "## Task 2: Unique Review"
   ]
  },
  {
   "cell_type": "markdown",
   "metadata": {},
   "source": [
    "Write a multi-step map reduce that yield the review_id with text containing the maximum number of unique words across all reviews. (**15pts**)"
   ]
  },
  {
   "cell_type": "markdown",
   "metadata": {
    "collapsed": true
   },
   "source": [
    "## Task 3: User Similarity"
   ]
  },
  {
   "cell_type": "markdown",
   "metadata": {},
   "source": [
    "Write a map reduce that measures the Jaccard similarity of users based on the businesses reviewed, and find users with >= 0.5 similarity. (**15pts**)"
   ]
  },
  {
   "cell_type": "markdown",
   "metadata": {},
   "source": [
    "----------------------------------------"
   ]
  },
  {
   "cell_type": "markdown",
   "metadata": {
    "collapsed": true
   },
   "source": [
    "## Task 4: Run on Amazon Elastic MapReduce"
   ]
  },
  {
   "cell_type": "markdown",
   "metadata": {},
   "source": [
    "We will be using the Amazon Simple Storage Service (S3). To create an S3 bucket, sign into the AWS Management Console and open the Amazon S3 console at https://console.aws.amazon.com/s3. Click **Create Bucket** on the top left. After you have created your bucket, click **Upload** and upload yelp_academic_dataset_review.json in your bucket.\n",
    "\n",
    "To allow mrjob to run your code on Amazon EMR, first you need to configure your AWS and SSH credentials: http://pythonhosted.org/mrjob/guides/emr-quickstart.html\n",
    "\n",
    "The following command will read in yelp_academic_dataset_review.json from your S3 bucket and store the output in a directory called \"output\" in your S3 bucket (you can view your S3 bucket at https://console.aws.amazon.com/s3). The output will also be streamed back to your local machine.\n",
    "\n",
    "`python unique_review.py -r emr s3://name-of-your-bucket/yelp_academic_dataset_review.json --output-dir=s3://name-of-your-bucket/output/`\n",
    "\n",
    "By default, mrjob runs a single m1.medium, which is a cheap but not very powerful instance type. To get more performance out of your job, you can eiher add more instances, use more powerful instances, or both. Amazon bills you for the full hour even if your cluster only lasts for a few minutes.\n",
    "\n",
    "The basic way to control type and number of instances is with `instance_type` and `num_core_instances` options on the command line like this:\n",
    "\n",
    "`--instance_type m1.medium --num-core-instances 4`\n",
    "\n",
    "or adding to mrjob.conf that you created earlier:\n",
    "\n",
    "`runners:\n",
    "  emr:\n",
    "    instance_type: m1.medium\n",
    "    num_core_instances: 4\n",
    "`\n",
    "\n",
    "You can see the jobs you run here: http://console.aws.amazon.com/elasticmapreduce/\n",
    "\n",
    "Here are a few more links that you may find useful:\n",
    "* https://aws.amazon.com/emr/pricing/\n",
    "* http://docs.aws.amazon.com/AWSEC2/latest/UserGuide/using-vpc.html#vpc-only-instance-types\n",
    "* http://docs.aws.amazon.com/ElasticMapReduce/latest/DeveloperGuide/emr-troubleshoot-failed.html\n",
    "* http://docs.aws.amazon.com/ElasticMapReduce/latest/DeveloperGuide/emr-troubleshoot-slow.html\n",
    "\n",
    "Submit the output of your 3 tasks running on Amazon EMR. (**15pts**)\n",
    "\n",
    "You can redirect the output to a file with the following:\n",
    "\n",
    "`python unique_review.py -r emr s3://name-of-your-bucket/yelp_academic_dataset_review.json --output-dir=s3://name-of-your-bucket/output/ > unique_review.out`"
   ]
  },
  {
   "cell_type": "markdown",
   "metadata": {},
   "source": [
    "----------------------------------------"
   ]
  }
 ],
 "metadata": {
  "anaconda-cloud": {},
  "kernelspec": {
   "display_name": "Python [conda root]",
   "language": "python",
   "name": "conda-root-py"
  },
  "language_info": {
   "codemirror_mode": {
    "name": "ipython",
    "version": 3
   },
   "file_extension": ".py",
   "mimetype": "text/x-python",
   "name": "python",
   "nbconvert_exporter": "python",
   "pygments_lexer": "ipython3",
   "version": "3.5.2"
  }
 },
 "nbformat": 4,
 "nbformat_minor": 0
}
