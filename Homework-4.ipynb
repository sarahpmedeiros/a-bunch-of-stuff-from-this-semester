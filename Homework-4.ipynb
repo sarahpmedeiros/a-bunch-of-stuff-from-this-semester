{
 "cells": [
  {
   "cell_type": "markdown",
   "metadata": {},
   "source": [
    "# Recommender System for Amazon Electronics"
   ]
  },
  {
   "cell_type": "markdown",
   "metadata": {},
   "source": [
    "In this assignment, we will be working with the [Amazon dataset](https://drive.google.com/a/bu.edu/file/d/0B4bdB5WPHGsqT0lvTTZpbEdFS3c/view?usp=sharing). You will build a recommender system to make predictions related to reviews of Electronics products on Amazon.\n",
    "\n",
    "Your grades will be determined by your performance on the predictive tasks as well as a brief written report about the approaches you took.\n",
    "\n",
    "This assignment should be completed **individually**."
   ]
  },
  {
   "cell_type": "code",
   "execution_count": 1,
   "metadata": {
    "collapsed": true
   },
   "outputs": [],
   "source": [
    "from collections import defaultdict\n",
    "\n",
    "def readJson(f):\n",
    "    for l in open(f):\n",
    "        yield eval(l)"
   ]
  },
  {
   "cell_type": "code",
   "execution_count": 3,
   "metadata": {
    "collapsed": false
   },
   "outputs": [],
   "source": [
    "### Rating Prediction\n",
    "\n",
    "allRatings = []\n",
    "userRatings = defaultdict(list)\n",
    "itemRatings = defaultdict(list)\n",
    "userAndItems = defaultdict(list)\n",
    "for l in readJson('amazon_reviews_Electronics/train.json'):\n",
    "    user,item = l['reviewerID'],l['asin']\n",
    "    allRatings.append(l['overall'])\n",
    "    userRatings[user].append(l['overall'])\n",
    "    itemRatings[item].append(l['overall'])\n",
    "#     userAndItems[user].append(item)\n",
    "globalAverage = sum(allRatings) / len(allRatings)\n",
    "# print (globalAverage)\n"
   ]
  },
  {
   "cell_type": "code",
   "execution_count": 95,
   "metadata": {
    "collapsed": false
   },
   "outputs": [],
   "source": [
    "# userAverage = {}\n",
    "# for u in userRatings:\n",
    "#     userAverage[u] = sum(userRatings[u]) / len(userRatings[u])\n",
    "# itemAverages = defaultdict(list)\n",
    "# for r in itemRatings:\n",
    "#     if (len(itemRatings[r])>0):\n",
    "#         itemAverages[r].append(sum(itemRatings[r])/(len(itemRatings[r])))\n",
    "#         print (sum(itemRatings[r])/(len(itemRatings[r])))\n",
    "#     else:\n",
    "#         itemAverages[item].append(globalAverage)\n",
    "\n",
    "# print (itemAverages['b1e73c6d7bb534531a6e8662fe401577da0bcc2d4d7ec44acde02bc5b6702ef3'][0])\n",
    "lam = 6\n",
    "predictions = open(\"myPredictions_Rating.txt\", 'w')\n",
    "for l in open(\"amazon_reviews_Electronics/pairs_Rating.txt\"):\n",
    "    if l.startswith(\"reviewerID\"):\n",
    "    #header\n",
    "        predictions.write(l)\n",
    "        continue\n",
    "    u,i = l.strip().split('-')\n",
    "    \n",
    "    total=0\n",
    "    for x in (userRatings[u]):\n",
    "#         print (x)\n",
    "        total+= (x -globalAverage)\n",
    "    bU = (total/((len(userRatings[u])) + lam))\n",
    "\n",
    "    total = 0    \n",
    "    for x in itemRatings[i]:\n",
    "        total += (x- globalAverage - bU)\n",
    "    bI = (total/((len(itemRatings[i])) + lam))\n",
    "    \n",
    "\n",
    "    result = globalAverage + bU + bI \n",
    "    predictions.write(u + '-' + i + ',' + str(result) + '\\n')\n",
    "\n",
    "predictions.close()\n"
   ]
  },
  {
   "cell_type": "code",
   "execution_count": 21,
   "metadata": {
    "collapsed": false
   },
   "outputs": [],
   "source": [
    "itemCategories = defaultdict(list)\n",
    "for l in readJson('amazon_reviews_Electronics/meta.json'):\n",
    "    item, categories = l['asin'],l['categories']\n",
    "    itemList = (categories.strip('[]').split(','))\n",
    "    itemList = [x.strip('\\' ') for x in itemList]\n",
    "    itemCategories[item].append(itemList)\n"
   ]
  },
  {
   "cell_type": "code",
   "execution_count": 22,
   "metadata": {
    "collapsed": true
   },
   "outputs": [],
   "source": [
    "setCat = set()\n",
    "for i in itemCategories:\n",
    "    for j in itemCategories[i]:\n",
    "        for x in j:\n",
    "            x = (x.strip(']')).strip('\\'')\n",
    "            setCat.add(x.strip('[]'))\n"
   ]
  },
  {
   "cell_type": "code",
   "execution_count": 24,
   "metadata": {
    "collapsed": false
   },
   "outputs": [],
   "source": [
    "# import pandas as pd\n",
    "# import numpy as np\n",
    "# z = np.zeros(((len(allUsers)),(len(setCat))))\n",
    "# #create a data frame of the items and what categories its in\n",
    "# df = pd.DataFrame(data=z,index=(list(allUsers)),columns=(list(setCat)))\n"
   ]
  },
  {
   "cell_type": "code",
   "execution_count": 29,
   "metadata": {
    "collapsed": false
   },
   "outputs": [],
   "source": [
    "# ### Purchasing baseline: just rank which items are popular and which are not, and return '1' if an item is among the top-ranked\n",
    "\n",
    "# itemCount = defaultdict(int)\n",
    "# totalPurchases = 0\n",
    "# for l in readJson('amazon_reviews_Electronics/train.json'):\n",
    "#     user,item = l['reviewerID'],l['asin']\n",
    "    \n",
    "#     itemCount[item] += 1\n",
    "#     totalPurchases += 1\n",
    "\n",
    "# mostPopular = [(itemCount[x], x) for x in itemCount]\n",
    "# mostPopular.sort(reverse=True)\n",
    "\n",
    "# return1 = set()\n",
    "# count = 0\n",
    "# for ic, i in mostPopular:\n",
    "#     count += ic\n",
    "#     return1.add(i)\n",
    "#     if count > totalPurchases/2: break\n",
    "\n"
   ]
  },
  {
   "cell_type": "code",
   "execution_count": 30,
   "metadata": {
    "collapsed": false
   },
   "outputs": [],
   "source": [
    "# make two matrices \n",
    "\n",
    "# the users and items they bought\n",
    "# items and who bought it\n",
    "# 1 with items and the categories\n",
    "userItemsPurchased = defaultdict (list)\n",
    "itemsPurchasedBy = defaultdict(list)\n",
    "allUsers = set()\n",
    "for l in readJson('amazon_reviews_Electronics/train.json'):\n",
    "    user,item = l['reviewerID'],l['asin']\n",
    "    allUsers.add(user)\n",
    "    userItemsPurchased[user].append(item)\n",
    "    itemsPurchasedBy[item].append(user)\n"
   ]
  },
  {
   "cell_type": "code",
   "execution_count": 98,
   "metadata": {
    "collapsed": false
   },
   "outputs": [],
   "source": [
    "# Code that works for task 2 \n",
    "\n",
    "predictions = open(\"myPredictions_Purchase.txt\", 'w')\n",
    "for l in open(\"amazon_reviews_Electronics/pairs_Purchase.txt\"):\n",
    "    if l.startswith(\"reviewerID\"):\n",
    "    #header\n",
    "        predictions.write(l)\n",
    "        continue\n",
    "    u,i = l.strip().split('-')\n",
    "    \n",
    "    listOfBuyers = (itemsPurchasedBy[i])\n",
    "    if (len(listOfBuyers) > 1):\n",
    "        predictions.write(u + '-' + i + \",1\\n\")\n",
    "    else:\n",
    "        predictions.write(u + '-' + i + \",0\\n\")\n",
    "predictions.close()\n"
   ]
  },
  {
   "cell_type": "code",
   "execution_count": 90,
   "metadata": {
    "collapsed": false
   },
   "outputs": [],
   "source": [
    "\n",
    "### Helpfulness baseline: similar to the above. Compute the global average helpfulness rate, and the average helpfulness rate for each user\n",
    "\n",
    "# how many people voted that the review was helpful\n",
    "# why will a review be considered helpful?\n",
    "allHelpful = []\n",
    "userHelpful = defaultdict(list)\n",
    "itemScore = defaultdict(list)\n",
    "itemHelpful = defaultdict(list)\n",
    "\n",
    "for l in readJson('amazon_reviews_Electronics/train.json'):\n",
    "    user,item = l['reviewerID'],l['asin']\n",
    "    allHelpful.append(l['helpful'])\n",
    "    userHelpful[user].append(l['helpful'])\n",
    "    itemScore[item].append(l['overall'])\n",
    "    itemHelpful[item].append(l['helpful'])\n",
    "    \n",
    "averageRate = sum([x['nHelpful'] for x in allHelpful]) * 1.0 / sum([x['outOf'] for x in allHelpful])\n",
    "userRate = {}\n",
    "for u in userHelpful:\n",
    "    userRate[u] = sum([x['nHelpful'] for x in userHelpful[u]]) * 1.0 / sum([x['outOf'] for x in userHelpful[u]])\n",
    "itemRate = {}\n",
    "for h in itemHelpful:\n",
    "    itemRate[h] = sum([x['nHelpful'] for x in itemHelpful[h]]) * 1.0 / sum([x['outOf'] for x in itemHelpful[h]])\n"
   ]
  },
  {
   "cell_type": "code",
   "execution_count": 84,
   "metadata": {
    "collapsed": false
   },
   "outputs": [],
   "source": [
    "\n",
    "# # calculate the bias\n",
    "# predictions = open(\"myPredictions_Helpful.txt\", 'w')\n",
    "# for l in open(\"amazon_reviews_Electronics/pairs_Helpful.txt\"):\n",
    "#     if l.startswith(\"reviewerID\"):\n",
    "#     #header\n",
    "#         predictions.write(l)\n",
    "#         continue\n",
    "#     u,i,outOf = l.strip().split('-')\n",
    "# #     print (avgScore)\n",
    "# #     break\n",
    "\n",
    "#     outOf = int(outOf)\n",
    "#     if (u in userRate) and (i in itemRate):\n",
    "# #         print ((userRate[u]+ avgScore)/2)\n",
    "# #         break\n",
    "        \n",
    "#         predictions.write(u + '-' + i + '-' + str(outOf) + ',' + str(outOf*(((averageRate+userRate[u])+itemRate[i])/3)) + '\\n')\n",
    "#     else:\n",
    "#         predictions.write(u + '-' + i + '-' + str(outOf) + ',' + str(outOf*averageRate) + '\\n')\n",
    "# predictions.close()\n"
   ]
  },
  {
   "cell_type": "code",
   "execution_count": 115,
   "metadata": {
    "collapsed": false
   },
   "outputs": [],
   "source": [
    "\n",
    "userRatedItem = defaultdict(list)\n",
    "itemRated = defaultdict(list)\n",
    "for line in readJson('amazon_reviews_Electronics/helpful.json'):\n",
    "    user, item, rating = line['reviewerID'], line['asin'], line['overall']\n",
    "    userRatedItem[user].append(item)\n",
    "    itemRated[item].append([user,rating])\n",
    "    \n",
    "predictions = open(\"myPredictions_Helpful.txt\", 'w')\n",
    "for l in open(\"amazon_reviews_Electronics/pairs_Helpful.txt\"):\n",
    "    if l.startswith(\"reviewerID\"):\n",
    "    #header\n",
    "        predictions.write(l)\n",
    "        continue\n",
    "    u,i,outOf = l.strip().split('-')\n",
    "\n",
    "    if u in userRatedItem and i in itemRated:\n",
    "        for user,rating in itemRated[i]:\n",
    "            if u == user:\n",
    "                userRating = rating\n",
    "                break\n",
    "            else:\n",
    "                userRating=-1\n",
    "            \n",
    "\n",
    "    outOf = int(outOf)\n",
    "    if userRating == 1 or userRating == 5:\n",
    "            predictions.write(u + '-' + i + '-' + str(outOf) + ',' + str((outOf*1)) + '\\n')\n",
    "    elif userRating == 4 or userRating == 2:\n",
    "            predictions.write(u + '-' + i + '-' + str(outOf) + ',' + str((outOf*.95)) + '\\n')\n",
    "    else:\n",
    "        if u in userRate and i in itemRate:\n",
    "            predictions.write(u + '-' + i + '-' + str(outOf) + ',' + str(outOf*(((averageRate+userRate[u])+itemRate[i])/3)) + '\\n')\n",
    "        else:\n",
    "            predictions.write(u + '-' + i + '-' + str(outOf) + ',' + str(outOf*averageRate) + '\\n')\n",
    "\n",
    "#         predictions.write(u + '-' + i + '-' + str(outOf) + ',' + str(outOf*averageRate) + '\\n')\n",
    "predictions.close()\n"
   ]
  },
  {
   "cell_type": "markdown",
   "metadata": {},
   "source": [
    "## Files"
   ]
  },
  {
   "cell_type": "markdown",
   "metadata": {},
   "source": [
    "# **train.json** 1,000,000 reviews to be used for training. It is not necessary to use all reviews for training if doing so proves too computationally intensive. The fields in this file are:\n",
    "\n",
    "* **reviewerID** The ID of the reviewer. This is a hashed user identifier from Amazon.\n",
    "\n",
    "* **asin** The ID of the item. This is a hashed product identifier from Amazon.\n",
    "\n",
    "* **overall** The rating of reviewer gave the item.\n",
    "\n",
    "* **helpful** The helpfulness votes for the review. This has 2 subfields, 'nHelpful' and 'outOf'. The latter is the total number of votes this review received. The former is the number of those that considered the review to be helpful.\n",
    "\n",
    "* **reviewText** The text of the review.\n",
    "\n",
    "* **summary** The summary of the review.\n",
    "\n",
    "* **unixReviewTime** The time of the review in seconds since 1970."
   ]
  },
  {
   "cell_type": "markdown",
   "metadata": {},
   "source": [
    "**meta.json** Contains metadata of the items:\n",
    "\n",
    "* **asin** The ID of the item.\n",
    "\n",
    "* **categories** The category labels of the item being reviewed.\n",
    "\n",
    "* **price** The price of the item.\n",
    "\n",
    "* **brand** The brand of the item."
   ]
  },
  {
   "cell_type": "markdown",
   "metadata": {},
   "source": [
    "**pairs_Rating.txt** The pairs (reviewerID and asin) on which you are to predict ratings.\n",
    "\n",
    "**pairs_Purchase.txt** The pairs on which you are to predict whether a user purchased an item or not.\n",
    "\n",
    "**pairs_Helpful.txt** The pairs on which you are to predict helpfulness votes. A third column in this file is the total number of votes from which you should predict how many were helpful."
   ]
  },
  {
   "cell_type": "markdown",
   "metadata": {},
   "source": [
    "**helpful.json** The review data associated with the helpfulness prediction test set. The 'nHelpful' field has been removed from this data since that is the value you need to predict above. This data will only be of use for the helpfulness prediction task."
   ]
  },
  {
   "cell_type": "markdown",
   "metadata": {},
   "source": [
    "**baseline.py** A simple baseline for each task."
   ]
  },
  {
   "cell_type": "markdown",
   "metadata": {
    "collapsed": true
   },
   "source": [
    "## Tasks"
   ]
  },
  {
   "cell_type": "markdown",
   "metadata": {},
   "source": [
    "**Rating prediction** Predict people's star ratings as accurately as possible for those (reviewerID, asin) pairs in 'pairs_Rating.txt'. Accuracy will be measured in terms of the [root mean-squared error (RMSE)](http://www.kaggle.com/wiki/RootMeanSquaredError).\n",
    "\n",
    "**Purchase prediction** Predict given a (reviewerID, asin) pair from 'pairs_Purchase.txt' whether the user purchased the item (really, whether it was one of the items they reviewed). Accuracy will be measured in terms of the [categorization accuracy](http://www.kaggle.com/wiki/HammingLoss) (1 minus the Hamming loss).\n",
    "\n",
    "**Helpfulness prediction** Predict whether a user's review of an item will be considered helpful. The file 'pairs_Helpful.txt' contains (reviewerID, asin) pairs with a third column containing the number of votes the user's review of the item received. You must predict how many of them were helpful. Accuracy will be measured in terms of the total [absolute error](http://www.kaggle.com/wiki/AbsoluteError), i.e. you are penalized one according to the difference |nHelpful - prediction|, where 'nHelpful' is the number of helpful votes the review actually received, and 'prediction' is your prediction of this quantity.\n",
    "\n",
    "We set up competitions on Kaggle to keep track of your results compared to those of other members of the class. The leaderboard will show your results on half of the test data, but your ultimate score will depend on your predictions across the whole dataset.\n",
    "* Kaggle competition: [rating prediction](https://inclass.kaggle.com/c/cs505-amazon-rating-prediction) click here to [join](https://kaggle.com/join/rating)\n",
    "* Kaggle competition: [purchase prediction](https://inclass.kaggle.com/c/cs505-amazon-purchase-prediction) click here to [join](https://kaggle.com/join/purchase)\n",
    "* Kaggle competition: [helpfulness prediction](https://inclass.kaggle.com/c/cs505-amazon-helpful-prediction) click here to [join](https://kaggle.com/join/helpful)"
   ]
  },
  {
   "cell_type": "markdown",
   "metadata": {},
   "source": [
    "## Grading and Evaluation"
   ]
  },
  {
   "cell_type": "markdown",
   "metadata": {},
   "source": [
    "You will be graded on the following aspects.\n",
    "\n",
    "* Your written report. This should describe the approaches you took to each of the 3 tasks. To obtain good performance, you should not need to invent new approaches (though you are more than welcome to) but rather you will be graded based on your decision to apply reasonable approaches to each of the given tasks. (**10pts** for each task)\n",
    "\n",
    "* Your ability to obtain a solution which outperforms the baselines on the unseen portion of the test data. Obtaining full marks requires a solution which is substantially better (at least several percent) than baseline performance. (**10pts** for each task)\n",
    "\n",
    "* Your ranking for each of the three tasks compared to other students in the class. (**10pts** for each task)"
   ]
  },
  {
   "cell_type": "markdown",
   "metadata": {},
   "source": [
    "## Baselines"
   ]
  },
  {
   "cell_type": "markdown",
   "metadata": {},
   "source": [
    "Simple baselines have been provided for each of the 3 tasks. These are included in 'baselines.py' among the files above. These 3 baselines operate as follows:\n",
    "\n",
    "**Rating prediction** Returns the global average rating, or the user's average if you have seen them before in the training data.\n",
    "\n",
    "**Purchase prediction** Finds the most popular products that account for 50% of purchases in the training data. Return '1' whenever such a product is seen at test time, '0' otherwise.\n",
    "\n",
    "** Helpfulness prediction** Multiplies the number of votes by the global average helpfulness rate, or the user's rate if we saw this user in the training data.\n",
    "\n",
    "Running 'baseline.py' produces 3 files containing predicted outputs. Your submission files should have the same format."
   ]
  },
  {
   "cell_type": "markdown",
   "metadata": {},
   "source": [
    "-----------------"
   ]
  },
  {
   "cell_type": "markdown",
   "metadata": {},
   "source": [
    "## Dataset Citation"
   ]
  },
  {
   "cell_type": "markdown",
   "metadata": {},
   "source": [
    "**Image-based recommendations on styles and substitutes** J. McAuley, C. Targett, J. Shi, A. van den Hengel *SIGIR*, 2015\n",
    "\n",
    "**Inferring networks of substitutable and complementary products** J. McAuley, R. Pandey, J. Leskovec *Knowledge Discovery and Data Mining*, 2015"
   ]
  }
 ],
 "metadata": {
  "anaconda-cloud": {},
  "kernelspec": {
   "display_name": "Python [conda root]",
   "language": "python",
   "name": "conda-root-py"
  },
  "language_info": {
   "codemirror_mode": {
    "name": "ipython",
    "version": 3
   },
   "file_extension": ".py",
   "mimetype": "text/x-python",
   "name": "python",
   "nbconvert_exporter": "python",
   "pygments_lexer": "ipython3",
   "version": "3.5.2"
  }
 },
 "nbformat": 4,
 "nbformat_minor": 0
}
