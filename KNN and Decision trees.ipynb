{
 "cells": [
  {
   "cell_type": "code",
   "execution_count": 1,
   "metadata": {
    "collapsed": false,
    "scrolled": true
   },
   "outputs": [
    {
     "name": "stdout",
     "output_type": "stream",
     "text": [
      "           Race Gender  Year       JobType\n",
      "41519  Minority    Men  2007     Unskilled\n",
      "54085     White    Men  2015     Unskilled\n",
      "25059  Minority    Men  2007  Semi-Skilled\n",
      "11908  Minority  Women  2015  Semi-Skilled\n",
      "10850     White    Men  2015       Skilled\n",
      "63088     White    Men  2015  Semi-Skilled\n",
      "4990      White    Men  2007       Skilled\n",
      "21374  Minority    Men  2007     Unskilled\n",
      "39999  Minority    Men  2007     Unskilled\n",
      "76321     White  Women  2007     Unskilled\n",
      "21411  Minority    Men  2007     Unskilled\n",
      "5872   Minority  Women  2015       Skilled\n",
      "49823     White    Men  2007     Unskilled\n",
      "54832     White    Men  2015     Unskilled\n",
      "43023  Minority  Women  2007     Unskilled\n",
      "14592     White  Women  2015       Skilled\n",
      "53878     White    Men  2015     Unskilled\n",
      "36578     White  Women  2007  Semi-Skilled\n",
      "12887  Minority  Women  2015  Semi-Skilled\n",
      "7681      White  Women  2007       Skilled\n",
      "81908     White  Women  2015     Unskilled\n",
      "76403     White  Women  2007     Unskilled\n",
      "11544     White    Men  2015       Skilled\n",
      "1999      White    Men  2015       Skilled\n",
      "13368     White  Women  2015       Skilled\n",
      "47305     White  Women  2015  Semi-Skilled\n",
      "55531     White    Men  2007  Semi-Skilled\n",
      "63344     White    Men  2015  Semi-Skilled\n",
      "24198     White    Men  2007  Semi-Skilled\n",
      "893       White    Men  2007       Skilled\n",
      "...         ...    ...   ...           ...\n",
      "25712     White  Women  2007  Semi-Skilled\n",
      "44931     White  Women  2015  Semi-Skilled\n",
      "38439     White  Women  2007  Semi-Skilled\n",
      "81641     White  Women  2015     Unskilled\n",
      "47045  Minority    Men  2015     Unskilled\n",
      "25565  Minority    Men  2007  Semi-Skilled\n",
      "13731  Minority    Men  2007  Semi-Skilled\n",
      "79439     White    Men  2015     Unskilled\n",
      "31227     White  Women  2015  Semi-Skilled\n",
      "1887      White    Men  2015       Skilled\n",
      "47210     White  Women  2015  Semi-Skilled\n",
      "24736  Minority    Men  2007  Semi-Skilled\n",
      "26307  Minority    Men  2007  Semi-Skilled\n",
      "26356     White  Women  2007  Semi-Skilled\n",
      "27543  Minority  Women  2007  Semi-Skilled\n",
      "55406     White    Men  2007  Semi-Skilled\n",
      "270       White    Men  2007       Skilled\n",
      "48        White    Men  2007       Skilled\n",
      "21889  Minority    Men  2007     Unskilled\n",
      "60067     White  Women  2007  Semi-Skilled\n",
      "7235   Minority    Men  2007  Semi-Skilled\n",
      "2592      White    Men  2007       Skilled\n",
      "29278     White    Men  2015  Semi-Skilled\n",
      "77500     White  Women  2007     Unskilled\n",
      "532       White    Men  2007       Skilled\n",
      "3495   Minority  Women  2015       Skilled\n",
      "62454     White    Men  2015  Semi-Skilled\n",
      "22886     White    Men  2007  Semi-Skilled\n",
      "17256  Minority    Men  2015  Semi-Skilled\n",
      "20413  Minority  Women  2015  Semi-Skilled\n",
      "\n",
      "[102876 rows x 4 columns]\n"
     ]
    }
   ],
   "source": [
    "import pandas as pd\n",
    "trainDF = pd.DataFrame.from_csv('train.csv')\n",
    "testDF = pd.DataFrame.from_csv('test.csv')\n",
    "print (trainDF)"
   ]
  },
  {
   "cell_type": "code",
   "execution_count": 2,
   "metadata": {
    "collapsed": false,
    "scrolled": true
   },
   "outputs": [
    {
     "name": "stdout",
     "output_type": "stream",
     "text": [
      "       Race  Gender  Year\n",
      "41519     0       0  2007\n",
      "54085     1       0  2015\n",
      "25059     0       0  2007\n",
      "11908     0       1  2015\n",
      "10850     1       0  2015\n",
      "63088     1       0  2015\n",
      "4990      1       0  2007\n",
      "21374     0       0  2007\n",
      "39999     0       0  2007\n",
      "76321     1       1  2007\n",
      "21411     0       0  2007\n",
      "5872      0       1  2015\n",
      "49823     1       0  2007\n",
      "54832     1       0  2015\n",
      "43023     0       1  2007\n",
      "14592     1       1  2015\n",
      "53878     1       0  2015\n",
      "36578     1       1  2007\n",
      "12887     0       1  2015\n",
      "7681      1       1  2007\n",
      "81908     1       1  2015\n",
      "76403     1       1  2007\n",
      "11544     1       0  2015\n",
      "1999      1       0  2015\n",
      "13368     1       1  2015\n",
      "47305     1       1  2015\n",
      "55531     1       0  2007\n",
      "63344     1       0  2015\n",
      "24198     1       0  2007\n",
      "893       1       0  2007\n",
      "...     ...     ...   ...\n",
      "25712     1       1  2007\n",
      "44931     1       1  2015\n",
      "38439     1       1  2007\n",
      "81641     1       1  2015\n",
      "47045     0       0  2015\n",
      "25565     0       0  2007\n",
      "13731     0       0  2007\n",
      "79439     1       0  2015\n",
      "31227     1       1  2015\n",
      "1887      1       0  2015\n",
      "47210     1       1  2015\n",
      "24736     0       0  2007\n",
      "26307     0       0  2007\n",
      "26356     1       1  2007\n",
      "27543     0       1  2007\n",
      "55406     1       0  2007\n",
      "270       1       0  2007\n",
      "48        1       0  2007\n",
      "21889     0       0  2007\n",
      "60067     1       1  2007\n",
      "7235      0       0  2007\n",
      "2592      1       0  2007\n",
      "29278     1       0  2015\n",
      "77500     1       1  2007\n",
      "532       1       0  2007\n",
      "3495      0       1  2015\n",
      "62454     1       0  2015\n",
      "22886     1       0  2007\n",
      "17256     0       0  2015\n",
      "20413     0       1  2015\n",
      "\n",
      "[102876 rows x 3 columns]\n"
     ]
    }
   ],
   "source": [
    "from sklearn import tree\n",
    "import numpy as np\n",
    "from sklearn.feature_extraction import FeatureHasher\n",
    "data = trainDF.drop('JobType',axis=1)\n",
    "dataTest = testDF.drop('JobType',axis=1)\n",
    "\n",
    "target = trainDF.drop('Race',axis=1)\n",
    "target = target.drop('Gender',axis=1)\n",
    "target = target.drop('Year',axis=1)\n",
    "target = target.replace(['Skilled','Semi-Skilled','Unskilled'],[0,1,2])\n",
    "target = target.as_matrix()\n",
    "\n",
    "data = data.replace(['Men','Women','Minority','White'],[0,1,0,1])\n",
    "dataTest = dataTest.replace(['Men','Women','Minority','White'],[0,1,0,1])\n",
    "\n",
    "print (data)\n",
    "targetTest = testDF.drop('Race',axis=1)\n",
    "targetTest = targetTest.drop('Gender',axis=1)\n",
    "targetTest = targetTest.drop('Year',axis=1)\n",
    "targetTest = targetTest.replace(['Skilled','Semi-Skilled','Unskilled'],[0,1,2])\n",
    "targetTest = targetTest.as_matrix()"
   ]
  },
  {
   "cell_type": "code",
   "execution_count": 15,
   "metadata": {
    "collapsed": false
   },
   "outputs": [
    {
     "name": "stdout",
     "output_type": "stream",
     "text": [
      "[2 2 1 ..., 1 1 1]\n",
      "<class 'numpy.ndarray'>\n",
      "Accuracy of KNN test set: 1.0\n"
     ]
    }
   ],
   "source": [
    "import sklearn.datasets as datasets\n",
    "from sklearn.neighbors import KNeighborsClassifier\n",
    "target = target.ravel()\n",
    "targetTest = targetTest.ravel()\n",
    "print (target)\n",
    "# target = target.as_matrix()\n",
    "iris = datasets.load_iris()\n",
    "print (type(iris.target))\n",
    "k = 3\n",
    "knn = KNeighborsClassifier(n_neighbors=k)\n",
    "knn.fit(data,target)\n",
    "\n",
    "targetTest = knn.predict(dataTest)\n",
    "print(\"Accuracy of KNN test set:\", knn.score(dataTest, targetTest))"
   ]
  },
  {
   "cell_type": "code",
   "execution_count": 7,
   "metadata": {
    "collapsed": false
   },
   "outputs": [
    {
     "name": "stdout",
     "output_type": "stream",
     "text": [
      "[[1 0]\n",
      " [1 0]\n",
      " [1 1]\n",
      " ..., \n",
      " [1 1]\n",
      " [0 1]\n",
      " [0 1]]\n",
      "(102876,)\n",
      "DT accuracy on test data:  0.458869156971\n",
      "DT accuracy on training data:  0.457832730666\n"
     ]
    }
   ],
   "source": [
    "from IPython.display import Image  \n",
    "import pydotplus \n",
    "dtc = tree.DecisionTreeClassifier()\n",
    "# dfOnlySkilled = trainDF[trainDF.JobType != 'Unskilled']\n",
    "dataTrain = trainDF.drop('JobType',axis=1)\n",
    "dataTrain = dataTrain.drop('Year',axis=1)\n",
    "dataTrain = dataTrain.replace(['Men','Women','Minority','White'],[0,1,0,1])\n",
    "dataTrain = dataTrain.as_matrix()\n",
    "\n",
    "# testDFOnlySkilled = testDF[testDF.JobType != 'Unskilled']\n",
    "dataTest = testDF.drop('JobType',axis=1)\n",
    "dataTest = dataTest.drop('Year',axis=1)\n",
    "dataTest = dataTest.replace(['Men','Women','Minority','White'],[0,1,0,1])\n",
    "dataTest = dataTest.as_matrix()\n",
    "\n",
    "# dfOnlySkilled = trainDF[trainDF.JobType != 'Unskilled']\n",
    "targetTrain = trainDF.drop('Gender',axis=1)\n",
    "targetTrain = targetTrain.drop('Race',axis=1)\n",
    "targetTrain = targetTrain.drop('Year',axis=1)\n",
    "targetTrain = targetTrain.replace(['Skilled','Semi-Skilled','Unskilled'],[0,1,2])\n",
    "targetTrain = targetTrain.as_matrix()\n",
    "\n",
    "# testDFOnlySkilled = testDF[testDF.JobType != 'Unskilled']\n",
    "targetTest = testDF.drop('Gender',axis=1)\n",
    "targetTest = targetTest.drop('Race',axis=1)\n",
    "targetTest = targetTest.drop('Year',axis=1)\n",
    "targetTest = targetTest.replace(['Skilled','Semi-Skilled','Unskilled'],[0,1,2])\n",
    "targetTest = targetTest.as_matrix()\n",
    "\n",
    "targetTest = (targetTest.ravel())\n",
    "targetTrain = targetTrain.ravel()\n",
    "print (dataTest)\n",
    "print (targetTrain.shape)\n",
    "\n",
    "dtc.fit(dataTrain, targetTrain)\n",
    "y_pred_test = dtc.predict(dataTest)\n",
    "print('DT accuracy on test data: ', dtc.score(dataTest, targetTest))\n",
    "y_pred_train = dtc.predict(dataTest)\n",
    "print('DT accuracy on training data: ', dtc.score(dataTrain, targetTrain))\n",
    "\n",
    "\n",
    "dot_data = tree.export_graphviz(dtc,out_file='treeAll.dot',feature_names=['Race','Gender'],  \n",
    "                         class_names=['Skilled','Semi-Skilled','Unskilled'],\n",
    "                         filled=True)  \n",
    "\n"
   ]
  },
  {
   "cell_type": "code",
   "execution_count": null,
   "metadata": {
    "collapsed": false
   },
   "outputs": [],
   "source": []
  },
  {
   "cell_type": "code",
   "execution_count": 9,
   "metadata": {
    "collapsed": false
   },
   "outputs": [
    {
     "name": "stdout",
     "output_type": "stream",
     "text": [
      "[[2]\n",
      " [0]\n",
      " [0]\n",
      " ..., \n",
      " [1]\n",
      " [1]\n",
      " [2]]\n",
      "(102876,)\n",
      "DT accuracy on test data:  0.5634677631\n",
      "DT accuracy on training data:  0.564407636378\n"
     ]
    }
   ],
   "source": [
    "#try to predict gender\n",
    "# dtc = DecisionTreeClassifier()\n",
    "dataTrain = trainDF.drop('Gender',axis=1)\n",
    "dataTrain = dataTrain.drop('Year',axis=1)\n",
    "dataTrain = dataTrain.drop('Race',axis=1)\n",
    "dataTrain = dataTrain.replace(['Skilled','Semi-Skilled','Unskilled'],[0,1,2])\n",
    "dataTrain = dataTrain.as_matrix()\n",
    "\n",
    "dataTest = testDF.drop('Gender',axis=1)\n",
    "dataTest = dataTest.drop('Year',axis=1)\n",
    "dataTest = dataTest.drop('Race',axis=1)\n",
    "dataTest = dataTest.replace(['Skilled','Semi-Skilled','Unskilled'],[0,1,2])\n",
    "dataTest = dataTest.as_matrix()\n",
    "\n",
    "targetTrain = trainDF.drop('JobType',axis=1)\n",
    "targetTrain = targetTrain.drop('Race',axis=1)\n",
    "targetTrain = targetTrain.drop('Year',axis=1)\n",
    "targetTrain = targetTrain.replace(['Men','Women'],[0,1])\n",
    "targetTrain = targetTrain.as_matrix()\n",
    "\n",
    "targetTest = testDF.drop('JobType',axis=1)\n",
    "targetTest = targetTest.drop('Race',axis=1)\n",
    "targetTest = targetTest.drop('Year',axis=1)\n",
    "targetTest = targetTest.replace(['Men','Women'],[0,1])\n",
    "targetTest = targetTest.as_matrix()\n",
    "\n",
    "targetTest = (targetTest.ravel())\n",
    "targetTrain = targetTrain.ravel()\n",
    "print (dataTest)\n",
    "print (targetTrain.shape)\n",
    "\n",
    "dtc.fit(dataTrain, targetTrain)\n",
    "y_pred_test = dtc.predict(dataTest)\n",
    "print('DT accuracy on test data: ', dtc.score(dataTest, targetTest))\n",
    "y_pred_train = dtc.predict(dataTest)\n",
    "print('DT accuracy on training data: ', dtc.score(dataTrain, targetTrain))\n",
    "\n",
    "dot_data = tree.export_graphviz(dtc,out_file='treePredictGenderNoRace.dot',feature_names=['JobType'],  \n",
    "                         class_names=['Men','Women'],\n",
    "                         filled=True)  "
   ]
  },
  {
   "cell_type": "code",
   "execution_count": 33,
   "metadata": {
    "collapsed": false
   },
   "outputs": [
    {
     "name": "stdout",
     "output_type": "stream",
     "text": [
      "[[1 2]\n",
      " [1 0]\n",
      " [1 0]\n",
      " ..., \n",
      " [1 1]\n",
      " [0 1]\n",
      " [0 2]]\n",
      "(102876,)\n",
      "DT accuracy on test data:  0.5634677631\n",
      "DT accuracy on training data:  0.564407636378\n"
     ]
    }
   ],
   "source": [
    "#try to predict gender\n",
    "dataTrain = trainDF.drop('Gender',axis=1)\n",
    "dataTrain = dataTrain.drop('Year',axis=1)\n",
    "# dataTrain = dataTrain.drop('Race',axis=1)\n",
    "dataTrain = dataTrain.replace(['Skilled','Semi-Skilled','Unskilled','Minority','White'],[0,1,2,0,1])\n",
    "dataTrain = dataTrain.as_matrix()\n",
    "\n",
    "dataTest = testDF.drop('Gender',axis=1)\n",
    "dataTest = dataTest.drop('Year',axis=1)\n",
    "# dataTest = dataTest.drop('Race',axis=1)\n",
    "dataTest = dataTest.replace(['Skilled','Semi-Skilled','Unskilled','Minority','White'],[0,1,2,0,1])\n",
    "dataTest = dataTest.as_matrix()\n",
    "\n",
    "targetTrain = trainDF.drop('JobType',axis=1)\n",
    "targetTrain = targetTrain.drop('Race',axis=1)\n",
    "targetTrain = targetTrain.drop('Year',axis=1)\n",
    "targetTrain = targetTrain.replace(['Men','Women'],[0,1])\n",
    "targetTrain = targetTrain.as_matrix()\n",
    "\n",
    "targetTest = testDF.drop('JobType',axis=1)\n",
    "targetTest = targetTest.drop('Race',axis=1)\n",
    "targetTest = targetTest.drop('Year',axis=1)\n",
    "targetTest = targetTest.replace(['Men','Women'],[0,1])\n",
    "targetTest = targetTest.as_matrix()\n",
    "\n",
    "targetTest = (targetTest.ravel())\n",
    "targetTrain = targetTrain.ravel()\n",
    "print (dataTest)\n",
    "print (targetTrain.shape)\n",
    "\n",
    "dtc.fit(dataTrain, targetTrain)\n",
    "y_pred_test = dtc.predict(dataTest)\n",
    "print('DT accuracy on test data: ', dtc.score(dataTest, targetTest))\n",
    "y_pred_train = dtc.predict(dataTest)\n",
    "print('DT accuracy on training data: ', dtc.score(dataTrain, targetTrain))\n",
    "\n",
    "dot_data = tree.export_graphviz(dtc,out_file='treePredictGenderWithRace.dot',feature_names=['Race','JobType'],  \n",
    "                         class_names=['Men','Women'],\n",
    "                         filled=True)  "
   ]
  },
  {
   "cell_type": "code",
   "execution_count": 14,
   "metadata": {
    "collapsed": false
   },
   "outputs": [
    {
     "name": "stdout",
     "output_type": "stream",
     "text": [
      "[[2]\n",
      " [0]\n",
      " [0]\n",
      " ..., \n",
      " [1]\n",
      " [1]\n",
      " [2]]\n",
      "(102876,)\n",
      "DT accuracy on test data:  0.617443793194\n",
      "DT accuracy on training data:  0.615274699638\n"
     ]
    }
   ],
   "source": [
    "#try to predict race\n",
    "dataTrain = trainDF.drop('Gender',axis=1)\n",
    "dataTrain = dataTrain.drop('Year',axis=1)\n",
    "dataTrain = dataTrain.drop('Race',axis=1)\n",
    "dataTrain = dataTrain.replace(['Skilled','Semi-Skilled','Unskilled'],[0,1,2])\n",
    "dataTrain = dataTrain.as_matrix()\n",
    "\n",
    "dataTest = testDF.drop('Gender',axis=1)\n",
    "dataTest = dataTest.drop('Year',axis=1)\n",
    "dataTest = dataTest.drop('Race',axis=1)\n",
    "dataTest = dataTest.replace(['Skilled','Semi-Skilled','Unskilled'],[0,1,2])\n",
    "dataTest = dataTest.as_matrix()\n",
    "\n",
    "targetTrain = trainDF.drop('JobType',axis=1)\n",
    "targetTrain = targetTrain.drop('Gender',axis=1)\n",
    "targetTrain = targetTrain.drop('Year',axis=1)\n",
    "targetTrain = targetTrain.replace(['Minority','White'],[0,1])\n",
    "targetTrain = targetTrain.as_matrix()\n",
    "\n",
    "targetTest = testDF.drop('JobType',axis=1)\n",
    "targetTest = targetTest.drop('Year',axis=1)\n",
    "targetTest = targetTest.drop('Gender',axis=1)\n",
    "targetTest = targetTest.replace(['Minority','White'],[0,1])\n",
    "targetTest = targetTest.as_matrix()\n",
    "\n",
    "targetTest = (targetTest.ravel())\n",
    "targetTrain = targetTrain.ravel()\n",
    "print (dataTest)\n",
    "print (targetTrain.shape)\n",
    "\n",
    "dtc.fit(dataTrain, targetTrain)\n",
    "y_pred_test = dtc.predict(dataTest)\n",
    "print('DT accuracy on test data: ', dtc.score(dataTest, targetTest))\n",
    "y_pred_train = dtc.predict(dataTest)\n",
    "print('DT accuracy on training data: ', dtc.score(dataTrain, targetTrain))\n",
    "\n",
    "dot_data = tree.export_graphviz(dtc,out_file='treePredictRaceByJob.dot',feature_names=['JobType'],  \n",
    "                         class_names=['Minority','White'],\n",
    "                         filled=True)  "
   ]
  },
  {
   "cell_type": "code",
   "execution_count": null,
   "metadata": {
    "collapsed": false
   },
   "outputs": [],
   "source": []
  },
  {
   "cell_type": "code",
   "execution_count": null,
   "metadata": {
    "collapsed": false
   },
   "outputs": [],
   "source": []
  },
  {
   "cell_type": "code",
   "execution_count": 102,
   "metadata": {
    "collapsed": false
   },
   "outputs": [],
   "source": []
  },
  {
   "cell_type": "code",
   "execution_count": 117,
   "metadata": {
    "collapsed": false
   },
   "outputs": [],
   "source": []
  }
 ],
 "metadata": {
  "anaconda-cloud": {},
  "kernelspec": {
   "display_name": "Python [conda root]",
   "language": "python",
   "name": "conda-root-py"
  },
  "language_info": {
   "codemirror_mode": {
    "name": "ipython",
    "version": 3
   },
   "file_extension": ".py",
   "mimetype": "text/x-python",
   "name": "python",
   "nbconvert_exporter": "python",
   "pygments_lexer": "ipython3",
   "version": "3.5.2"
  }
 },
 "nbformat": 4,
 "nbformat_minor": 1
}
