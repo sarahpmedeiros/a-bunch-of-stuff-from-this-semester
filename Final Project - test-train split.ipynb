{
 "cells": [
  {
   "cell_type": "code",
   "execution_count": 1,
   "metadata": {
    "collapsed": true
   },
   "outputs": [],
   "source": [
    "def getDFfromGOVCSV(csv_input, file):\n",
    "#   this code creates a data frame from the CSV file that the government provides\n",
    "\n",
    "    index = ['ALL EMPLOYEES','Men','Women','WHITE','White Men','White Women','MINORITY',\n",
    "             'Minority Men','Minority Women','BLACK','Black Men','Black Women','HISPANIC','Hispanic Men','Hispanic Women',\n",
    "             'ASIAN AMERICAN','Asian Men', 'Asian Women','AMERICAN INDIAN','American-Indian Men','American-Indian Women',\n",
    "             'HAWAIIAN','Hawaiian Men','Hawaiian Women','TWO OR MORE RACES','Multiracial Men','Multiracial Women']\n",
    "    column = ['Total Employment','Officials & Managers','Professionals','Technicians',\n",
    "              \"Sales Workers\",'Office & Clerical Workers','Craft Workers','Operatives',\n",
    "              'Laborers','Service Workers']\n",
    "    if file:\n",
    "        dfFromFile = pd.DataFrame.from_csv(csv_input,sep=';')\n",
    "    else:\n",
    "        dfFromFile = csv_input\n",
    "            \n",
    "    sAndRace = ['TOTAL','MT','FT','WHT','WHM','WHF','MinT','MinM','MinF','BLKT','BLKM','BLKF','HISPT',\n",
    "                      'HISPM','HISPF','ASIANT','ASIANM','ASIANF','AIANT','AIANM','AIANF',\n",
    "                      'nhopiT','NHOPIM','NHOPIF','tomrT','TOMRM','TOMRF']\n",
    "    table = []\n",
    "    for x in sAndRace:\n",
    "        tempRow = []\n",
    "        for y in range(1,11):\n",
    "            if (y==1):\n",
    "                tempRow.append(dfFromFile.get_value(index='UNITED STATES',col=(x +'1')))\n",
    "            elif (y==2):\n",
    "                tempRow.append(dfFromFile.get_value(index='UNITED STATES',col=(x+'1_2')))\n",
    "            elif (y==10):\n",
    "                tempRow.insert(0,dfFromFile.get_value(index='UNITED STATES',col=(x+'10')))\n",
    "            else:\n",
    "                tempRow.append(dfFromFile.get_value(index='UNITED STATES',col=(x+str(y))))\n",
    "        table.append(tempRow)\n",
    "    \n",
    "\n",
    "    myDF = pd.DataFrame(data=table, index=index, columns=column)\n",
    "    if not file:\n",
    "        print(dfFromFile['NAC2_Label'][0])\n",
    "    \n",
    "    return(myDF)\n"
   ]
  },
  {
   "cell_type": "code",
   "execution_count": 4,
   "metadata": {
    "collapsed": false
   },
   "outputs": [
    {
     "ename": "NameError",
     "evalue": "name 'getDFfromGOVCSV' is not defined",
     "output_type": "error",
     "traceback": [
      "\u001b[0;31m---------------------------------------------------------------------------\u001b[0m",
      "\u001b[0;31mNameError\u001b[0m                                 Traceback (most recent call last)",
      "\u001b[0;32m<ipython-input-4-74428f34fe37>\u001b[0m in \u001b[0;36m<module>\u001b[0;34m()\u001b[0m\n\u001b[1;32m      2\u001b[0m \u001b[0;31m#COMPLETE DF\u001b[0m\u001b[0;34m\u001b[0m\u001b[0;34m\u001b[0m\u001b[0m\n\u001b[1;32m      3\u001b[0m \u001b[0mdfList\u001b[0m \u001b[0;34m=\u001b[0m \u001b[0;34m[\u001b[0m\u001b[0;34m]\u001b[0m\u001b[0;34m\u001b[0m\u001b[0m\n\u001b[0;32m----> 4\u001b[0;31m \u001b[0mdf07\u001b[0m \u001b[0;34m=\u001b[0m \u001b[0mgetDFfromGOVCSV\u001b[0m\u001b[0;34m(\u001b[0m\u001b[0;34m'YEAR07_US.txt'\u001b[0m\u001b[0;34m,\u001b[0m\u001b[0;32mTrue\u001b[0m\u001b[0;34m)\u001b[0m\u001b[0;34m\u001b[0m\u001b[0m\n\u001b[0m\u001b[1;32m      5\u001b[0m \u001b[0mdfList\u001b[0m\u001b[0;34m.\u001b[0m\u001b[0mappend\u001b[0m\u001b[0;34m(\u001b[0m\u001b[0mdf07\u001b[0m\u001b[0;34m)\u001b[0m\u001b[0;34m\u001b[0m\u001b[0m\n\u001b[1;32m      6\u001b[0m \u001b[0;34m\u001b[0m\u001b[0m\n",
      "\u001b[0;31mNameError\u001b[0m: name 'getDFfromGOVCSV' is not defined"
     ]
    }
   ],
   "source": [
    "#gets dataframes from csv files and puts them in a list and accesses each job type(Sarah's files) - still need to do NAC classifications\n",
    "#COMPLETE DF\n",
    "dfList = []\n",
    "df07 = getDFfromGOVCSV('YEAR07_US.txt',True)\n",
    "dfList.append(df07) \n",
    "\n",
    "df15 = getDFfromGOVCSV('year15_us.txt',True)\n",
    "dfList.append(df15)\n",
    "\n",
    "graphGenderRace = ['White Men','White Women','Minority Men','Minority Women',\n",
    "          'Black Men','Black Women','Hispanic Men','Hispanic Women',\n",
    "          'Asian Men', 'Asian Women','American-Indian Men','American-Indian Women',\n",
    "          'Hawaiian Men','Hawaiian Women','Multiracial Men','Multiracial Women']\n",
    "\n",
    "columnX = ['Race', 'Gender','Year', 'JobType', 'Workers']   \n",
    "\n",
    "jobTypes = ['Officials & Managers', 'Professionals','Technicians', 'Sales Workers', 'Office & Clerical Workers',\n",
    "'Craft Workers','Operatives','Laborers', 'Service Workers']\n",
    "\n",
    "OfficialsManagers = [] \n",
    "Professionals = [] \n",
    "Technicians = []\n",
    "SalesWorkers = []\n",
    "OfficeClericalWorkers = []\n",
    "CraftWorkers = []\n",
    "Operatives = []\n",
    "Laborers = [] \n",
    "ServiceWorkers = []\n",
    "\n",
    "#year = 2007 #TODO not sure if year goes up or down\n",
    "for jobType in jobTypes:\n",
    "    for demographic in graphGenderRace:\n",
    "        raceGender = demographic.split()\n",
    "        if jobType == 'Officials & Managers':\n",
    "            tempX = OfficialsManagers\n",
    "        if jobType == 'Professionals':\n",
    "            tempX = Professionals\n",
    "        if jobType == 'Technicians':\n",
    "            tempX = Technicians\n",
    "        if jobType == 'Sales Workers':\n",
    "            tempX = SalesWorkers\n",
    "        if jobType == 'Office & Clerical Workers':\n",
    "            tempX = OfficeClericalWorkers\n",
    "        if jobType == 'Craft Workers':\n",
    "            tempX = CraftWorkers\n",
    "        if jobType == 'Operatives':\n",
    "            tempX = Operatives\n",
    "        if jobType == 'Laborers':\n",
    "            tempX = Laborers\n",
    "        if jobType == 'Service Workers':\n",
    "            tempX = ServiceWorkers\n",
    "        tempX.append([raceGender[0],raceGender[1],2007,jobType,df07[jobType][demographic]])\n",
    "        \n",
    "for jobType in jobTypes:\n",
    "    for demographic in graphGenderRace:\n",
    "        raceGender = demographic.split()\n",
    "        if jobType == 'Officials & Managers':\n",
    "            tempX = OfficialsManagers\n",
    "        if jobType == 'Professionals':\n",
    "            tempX = Professionals\n",
    "        if jobType == 'Technicians':\n",
    "            tempX = Technicians\n",
    "        if jobType == 'Sales Workers':\n",
    "            tempX = SalesWorkers\n",
    "        if jobType == 'Office & Clerical Workers':\n",
    "            tempX = OfficeClericalWorkers\n",
    "        if jobType == 'Craft Workers':\n",
    "            tempX = CraftWorkers\n",
    "        if jobType == 'Operatives':\n",
    "            tempX = Operatives\n",
    "        if jobType == 'Laborers':\n",
    "            tempX = Laborers\n",
    "        if jobType == 'Service Workers':\n",
    "            tempX = ServiceWorkers\n",
    "        tempX.append([raceGender[0],raceGender[1],2015,jobType,df15[jobType][demographic]])\n",
    "\n",
    "OfficialsManagersDF = pd.DataFrame(data=OfficialsManagers, columns=columnX)\n",
    "ProfessionalsDF = pd.DataFrame(data=Professionals, columns=columnX)\n",
    "TechniciansDF = pd.DataFrame(data=Technicians, columns=columnX)\n",
    "SalesWorkersDF = pd.DataFrame(data=SalesWorkers, columns=columnX)\n",
    "OfficeClericalWorkersDF = pd.DataFrame(data=OfficeClericalWorkers, columns=columnX)\n",
    "CraftWorkersDF = pd.DataFrame(data=CraftWorkers, columns=columnX)\n",
    "OperativesDF = pd.DataFrame(data=Operatives, columns=columnX)\n",
    "LaborersDF = pd.DataFrame(data=Laborers, columns=columnX)\n",
    "ServiceWorkersDF = pd.DataFrame(data=ServiceWorkers, columns=columnX)\n",
    "allData = OfficialsManagers + Professionals + Technicians + SalesWorkers + OfficeClericalWorkers + CraftWorkers + Operatives + Laborers + ServiceWorkers\n",
    "\n",
    "allWorkers = pd.DataFrame(data=allData, columns=columnX)\n",
    "sortedWorkers = allWorkers.sort_values('Workers')\n",
    "minValue = sortedWorkers.iloc[0].Workers\n"
   ]
  },
  {
   "cell_type": "code",
   "execution_count": 2,
   "metadata": {
    "collapsed": false
   },
   "outputs": [],
   "source": [
    "def jobCategories(jobType):\n",
    "    if (jobType in \"Officials & Managers\" or jobType in \"Professionals\" or jobType in \"Technicians\"):\n",
    "        return (\"Skilled\")\n",
    "    elif (jobType in \"Sales\" or jobType in \"Office & Clerical\" or jobType in \"Operatives\"):\n",
    "        return (\"Semi-Skilled\")\n",
    "    else:\n",
    "        print (jobType)\n",
    "        return (\"Unskilled\")\n",
    "# jobCategories('Sales Workers')"
   ]
  },
  {
   "cell_type": "code",
   "execution_count": 3,
   "metadata": {
    "collapsed": false
   },
   "outputs": [
    {
     "ename": "NameError",
     "evalue": "name 'allWorkers' is not defined",
     "output_type": "error",
     "traceback": [
      "\u001b[0;31m---------------------------------------------------------------------------\u001b[0m",
      "\u001b[0;31mNameError\u001b[0m                                 Traceback (most recent call last)",
      "\u001b[0;32m<ipython-input-3-272f2d7db03e>\u001b[0m in \u001b[0;36m<module>\u001b[0;34m()\u001b[0m\n\u001b[1;32m      1\u001b[0m \u001b[0;32mimport\u001b[0m \u001b[0mcsv\u001b[0m\u001b[0;34m\u001b[0m\u001b[0m\n\u001b[1;32m      2\u001b[0m \u001b[0;31m# print(allWorkers)\u001b[0m\u001b[0;34m\u001b[0m\u001b[0;34m\u001b[0m\u001b[0m\n\u001b[0;32m----> 3\u001b[0;31m \u001b[0mwhiteDF\u001b[0m \u001b[0;34m=\u001b[0m \u001b[0mallWorkers\u001b[0m\u001b[0;34m\u001b[0m\u001b[0m\n\u001b[0m\u001b[1;32m      4\u001b[0m \u001b[0;34m\u001b[0m\u001b[0m\n\u001b[1;32m      5\u001b[0m \u001b[0mlistOfTotalWorkers\u001b[0m \u001b[0;34m=\u001b[0m \u001b[0;34m[\u001b[0m\u001b[0;34m]\u001b[0m\u001b[0;34m\u001b[0m\u001b[0m\n",
      "\u001b[0;31mNameError\u001b[0m: name 'allWorkers' is not defined"
     ]
    }
   ],
   "source": [
    "import csv\n",
    "# print(allWorkers)\n",
    "whiteDF = allWorkers\n",
    "\n",
    "listOfTotalWorkers = []\n",
    "indivW = []\n",
    "whiteDF = (whiteDF.loc[whiteDF['Race'] == 'White'])\n",
    "\n",
    "with open('whiteWorkers.csv', 'w', newline='') as csvfile:\n",
    "    csvWriter = csv.writer(csvfile, delimiter=',')\n",
    "    csvWriter.writerow(['Race','Gender','Year','JobType'])\n",
    "    for row in whiteDF.itertuples():\n",
    "        race = row.Race\n",
    "        gender = row.Gender\n",
    "        year = row.Year\n",
    "        job = row.JobType\n",
    "        j = jobCategories(job)\n",
    "        numWorkers = row.Workers\n",
    "        for x in range(numWorkers//minValue):\n",
    "            csvWriter.writerow([race,gender,year,j])\n",
    "#         indivW.append([race,gender,year,j])\n",
    "        print ([race,gender,year,job])\n",
    "# print (indivW)"
   ]
  },
  {
   "cell_type": "code",
   "execution_count": 36,
   "metadata": {
    "collapsed": false
   },
   "outputs": [
    {
     "name": "stdout",
     "output_type": "stream",
     "text": [
      "['Minority', 'Men', 2007, 'Officials & Managers']\n",
      "['Minority', 'Women', 2007, 'Officials & Managers']\n",
      "['Minority', 'Men', 2015, 'Officials & Managers']\n",
      "['Minority', 'Women', 2015, 'Officials & Managers']\n",
      "['Minority', 'Men', 2007, 'Professionals']\n",
      "['Minority', 'Women', 2007, 'Professionals']\n",
      "['Minority', 'Men', 2015, 'Professionals']\n",
      "['Minority', 'Women', 2015, 'Professionals']\n",
      "['Minority', 'Men', 2007, 'Technicians']\n",
      "['Minority', 'Women', 2007, 'Technicians']\n",
      "['Minority', 'Men', 2015, 'Technicians']\n",
      "['Minority', 'Women', 2015, 'Technicians']\n",
      "['Minority', 'Men', 2007, 'Sales Workers']\n",
      "['Minority', 'Women', 2007, 'Sales Workers']\n",
      "['Minority', 'Men', 2015, 'Sales Workers']\n",
      "['Minority', 'Women', 2015, 'Sales Workers']\n",
      "['Minority', 'Men', 2007, 'Office & Clerical Workers']\n",
      "['Minority', 'Women', 2007, 'Office & Clerical Workers']\n",
      "['Minority', 'Men', 2015, 'Office & Clerical Workers']\n",
      "['Minority', 'Women', 2015, 'Office & Clerical Workers']\n",
      "['Minority', 'Men', 2007, 'Craft Workers']\n",
      "['Minority', 'Women', 2007, 'Craft Workers']\n",
      "['Minority', 'Men', 2015, 'Craft Workers']\n",
      "['Minority', 'Women', 2015, 'Craft Workers']\n",
      "['Minority', 'Men', 2007, 'Operatives']\n",
      "['Minority', 'Women', 2007, 'Operatives']\n",
      "['Minority', 'Men', 2015, 'Operatives']\n",
      "['Minority', 'Women', 2015, 'Operatives']\n",
      "['Minority', 'Men', 2007, 'Laborers']\n",
      "['Minority', 'Women', 2007, 'Laborers']\n",
      "['Minority', 'Men', 2015, 'Laborers']\n",
      "['Minority', 'Women', 2015, 'Laborers']\n",
      "['Minority', 'Men', 2007, 'Service Workers']\n",
      "['Minority', 'Women', 2007, 'Service Workers']\n",
      "['Minority', 'Men', 2015, 'Service Workers']\n",
      "['Minority', 'Women', 2015, 'Service Workers']\n"
     ]
    }
   ],
   "source": [
    "# individualM = []\n",
    "minorityDF = allWorkers\n",
    "minorityDF = (minorityDF.loc[minorityDF['Race'] == 'Minority'])\n",
    "with open('minorityWorkers.csv', 'w', newline='') as csvfile:\n",
    "    csvWriter = csv.writer(csvfile, delimiter=',')\n",
    "    csvWriter.writerow(['Race','Gender','Year','JobType'])\n",
    "    for row in minorityDF.itertuples():\n",
    "        race = row.Race\n",
    "        gender = row.Gender\n",
    "        year = row.Year\n",
    "        job = row.JobType\n",
    "        j = jobCategories(job)\n",
    "        numWorkers = row.Workers\n",
    "        for x in range(numWorkers//minValue):\n",
    "            csvWriter.writerow([race,gender,year,j])\n",
    "        print ([race,gender,year,job])\n",
    "# print (individualM)"
   ]
  },
  {
   "cell_type": "code",
   "execution_count": 37,
   "metadata": {
    "collapsed": false
   },
   "outputs": [
    {
     "name": "stdout",
     "output_type": "stream",
     "text": [
      "start\n",
      "here\n",
      "done\n"
     ]
    }
   ],
   "source": [
    "print ('start')\n",
    "df1 = pd.DataFrame.from_csv('whiteWorkers.csv',index_col=False)\n",
    "print ('here')\n",
    "df2 = pd.DataFrame.from_csv('minorityWorkers.csv',index_col=False)\n",
    "print ('done')"
   ]
  },
  {
   "cell_type": "code",
   "execution_count": 38,
   "metadata": {
    "collapsed": true
   },
   "outputs": [],
   "source": [
    "finalFrame = pd.concat([df1,df2])"
   ]
  },
  {
   "cell_type": "code",
   "execution_count": 45,
   "metadata": {
    "collapsed": false
   },
   "outputs": [],
   "source": [
    "from sklearn.cross_validation import train_test_split\n",
    "trainDF, testDF = train_test_split(finalFrame)\n",
    "trainDF.to_csv('train.csv')\n",
    "testDF.to_csv('test.csv')"
   ]
  },
  {
   "cell_type": "code",
   "execution_count": 46,
   "metadata": {
    "collapsed": false
   },
   "outputs": [
    {
     "name": "stdout",
     "output_type": "stream",
     "text": [
      "        Unnamed: 0      Race Gender  Year       JobType\n",
      "0            30150  Minority    Men  2015  Semi-Skilled\n",
      "1            13838  Minority    Men  2007     Unskilled\n",
      "2            55765     White    Men  2007  Semi-Skilled\n",
      "3            10699     White    Men  2015       Skilled\n",
      "4            17250  Minority    Men  2015     Unskilled\n",
      "5            17710  Minority    Men  2015     Unskilled\n",
      "6            73613     White    Men  2007     Unskilled\n",
      "7            15626     White    Men  2007       Skilled\n",
      "8              301     White    Men  2007       Skilled\n",
      "9            84135     White  Women  2015     Unskilled\n",
      "10           61758     White    Men  2015  Semi-Skilled\n",
      "11           34201     White    Men  2007     Unskilled\n",
      "12           11510  Minority  Women  2015     Unskilled\n",
      "13           27229     White  Women  2007     Unskilled\n",
      "14           51752     White  Women  2007     Unskilled\n",
      "15            7872     White  Women  2007       Skilled\n",
      "16           67292     White    Men  2007     Unskilled\n",
      "17           77746     White  Women  2007     Unskilled\n",
      "18           75615     White  Women  2007     Unskilled\n",
      "19           78172     White  Women  2007     Unskilled\n",
      "20           62898     White    Men  2015  Semi-Skilled\n",
      "21           49185  Minority  Women  2015     Unskilled\n",
      "22           43677     White  Women  2015     Unskilled\n",
      "23           21736  Minority    Men  2007     Unskilled\n",
      "24           34113  Minority    Men  2007     Unskilled\n",
      "25           52274  Minority  Women  2015     Unskilled\n",
      "26           70671     White    Men  2015     Unskilled\n",
      "27            9579  Minority  Women  2007     Unskilled\n",
      "28           31550  Minority  Women  2015  Semi-Skilled\n",
      "29           47126     White  Women  2015     Unskilled\n",
      "...            ...       ...    ...   ...           ...\n",
      "102846       37704     White  Women  2007     Unskilled\n",
      "102847       17963     White  Women  2007       Skilled\n",
      "102848       64651     White    Men  2015  Semi-Skilled\n",
      "102849       20463  Minority  Women  2015     Unskilled\n",
      "102850       35133     White    Men  2007     Unskilled\n",
      "102851       57015     White    Men  2007  Semi-Skilled\n",
      "102852        2676  Minority    Men  2015       Skilled\n",
      "102853       36817  Minority    Men  2015     Unskilled\n",
      "102854       27727     White  Women  2007     Unskilled\n",
      "102855       42208     White    Men  2015     Unskilled\n",
      "102856       36786  Minority    Men  2015     Unskilled\n",
      "102857         924     White    Men  2007       Skilled\n",
      "102858       44362     White  Women  2015     Unskilled\n",
      "102859        2743  Minority    Men  2015       Skilled\n",
      "102860       24445  Minority    Men  2007  Semi-Skilled\n",
      "102861       44467     White  Women  2015     Unskilled\n",
      "102862       34403  Minority    Men  2007     Unskilled\n",
      "102863       34881  Minority  Women  2007     Unskilled\n",
      "102864       27279     White  Women  2007     Unskilled\n",
      "102865       19014  Minority  Women  2015     Unskilled\n",
      "102866       48282     White    Men  2007     Unskilled\n",
      "102867       27229  Minority  Women  2007  Semi-Skilled\n",
      "102868        6909  Minority    Men  2007     Unskilled\n",
      "102869       20596  Minority  Women  2015     Unskilled\n",
      "102870       43427     White  Women  2015     Unskilled\n",
      "102871       27593  Minority  Women  2007  Semi-Skilled\n",
      "102872       46874  Minority    Men  2015     Unskilled\n",
      "102873       21601  Minority    Men  2007     Unskilled\n",
      "102874       18652  Minority  Women  2015     Unskilled\n",
      "102875       35810     White  Women  2007     Unskilled\n",
      "\n",
      "[102876 rows x 5 columns]\n"
     ]
    }
   ],
   "source": [
    "with open('train.csv', 'r') as csvfile:\n",
    "    df = pd.read_csv(csvfile)\n",
    "    print(df)\n",
    "    \n"
   ]
  },
  {
   "cell_type": "code",
   "execution_count": null,
   "metadata": {
    "collapsed": true
   },
   "outputs": [],
   "source": []
  }
 ],
 "metadata": {
  "anaconda-cloud": {},
  "kernelspec": {
   "display_name": "Python [conda root]",
   "language": "python",
   "name": "conda-root-py"
  },
  "language_info": {
   "codemirror_mode": {
    "name": "ipython",
    "version": 3
   },
   "file_extension": ".py",
   "mimetype": "text/x-python",
   "name": "python",
   "nbconvert_exporter": "python",
   "pygments_lexer": "ipython3",
   "version": "3.5.2"
  }
 },
 "nbformat": 4,
 "nbformat_minor": 0
}
