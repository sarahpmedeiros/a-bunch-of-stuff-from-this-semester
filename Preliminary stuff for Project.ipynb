{
 "cells": [
  {
   "cell_type": "code",
   "execution_count": 1,
   "metadata": {
    "collapsed": true
   },
   "outputs": [],
   "source": [
    "from bs4 import BeautifulSoup\n",
    "import sys\n",
    "import time\n",
    "import os\n",
    "import requests\n",
    "import codecs\n",
    "import json\n",
    "import csv"
   ]
  },
  {
   "cell_type": "code",
   "execution_count": 2,
   "metadata": {
    "collapsed": false
   },
   "outputs": [],
   "source": [
    "def parseHTML(filename):\n",
    "    newCSVfile = os.path.splitext(filename)[0] + '.csv'\n",
    "    print (newCSVfile)\n",
    "    soup = BeautifulSoup(open(filename),\"lxml\")\n",
    "    table = (soup.select('table'))[0]\n",
    "    tableHeader = table.findAll('th',{'scope':'col'})\n",
    "\n",
    "    headerRow = []\n",
    "    for x in tableHeader:\n",
    "        headerRow.append(x.text)\n",
    "    \n",
    "    body = (table.select('tbody'))\n",
    "\n",
    "    temp=[]\n",
    "    rows = []\n",
    "    for h in body:\n",
    "        row = (h.findAll('tr'))\n",
    "        for r in row:\n",
    "            temp.append((r.find('th').text))\n",
    "            values = (r.select('td'))\n",
    "            for v in values:\n",
    "                temp.append(v.text)\n",
    "            rows.append(temp)\n",
    "            temp=[]\n",
    "\n",
    "    with open(newCSVfile, 'w') as f:\n",
    "        writer = csv.writer(f,delimiter=',')\n",
    "        writer.writerow([headerRow[0],headerRow[1],headerRow[2],headerRow[3],headerRow[4],headerRow[5],headerRow[6],headerRow[7],headerRow[8],headerRow[9],headerRow[10]])\n",
    "        for x in rows:\n",
    "            if (len(x)==11):\n",
    "                writer.writerow([x[0], x[1], x[2], x[3], x[4], x[5], x[6], x[7], x[8], x[9],x[10]])\n"
   ]
  },
  {
   "cell_type": "code",
   "execution_count": 3,
   "metadata": {
    "collapsed": false
   },
   "outputs": [
    {
     "name": "stdout",
     "output_type": "stream",
     "text": [
      "2005 national agg.csv\n",
      "2006 national agg.csv\n"
     ]
    }
   ],
   "source": [
    "parseHTML('2005 national agg.htm')\n",
    "parseHTML('2006 national agg.htm')\n"
   ]
  },
  {
   "cell_type": "code",
   "execution_count": 24,
   "metadata": {
    "collapsed": false
   },
   "outputs": [],
   "source": [
    "# indir = '../Final Project'\n",
    "# for root, dirs, filenames in os.walk(indir):\n",
    "#     for fileName in filenames:\n",
    "#         if os.path.splitext(fileName)[1] == '.htm' or os.path.splitext(fileName)[1] == '.html':\n"
   ]
  },
  {
   "cell_type": "code",
   "execution_count": 23,
   "metadata": {
    "collapsed": false
   },
   "outputs": [
    {
     "name": "stdout",
     "output_type": "stream",
     "text": [
      "hi\n"
     ]
    }
   ],
   "source": [
    "def parseCSVfromWeb():\n",
    "    rootdir = '.'\n",
    "    print ('hi')\n",
    "    for subdir, dirs, files in os.walk(rootdir):\n",
    "        year = (subdir.split('-')[0][2:])\n",
    "        \n",
    "parseCSVfromWeb()\n",
    "    #     for file in files:\n",
    "#         print os.path.join(subdir, file)\n",
    "# with open('eggs.csv', newline='') as csvfile:\n",
    "#     spamreader = csv.reader(csvfile, delimiter=' ', quotechar='|')"
   ]
  }
 ],
 "metadata": {
  "anaconda-cloud": {},
  "kernelspec": {
   "display_name": "Python [conda root]",
   "language": "python",
   "name": "conda-root-py"
  },
  "language_info": {
   "codemirror_mode": {
    "name": "ipython",
    "version": 3
   },
   "file_extension": ".py",
   "mimetype": "text/x-python",
   "name": "python",
   "nbconvert_exporter": "python",
   "pygments_lexer": "ipython3",
   "version": "3.5.2"
  }
 },
 "nbformat": 4,
 "nbformat_minor": 1
}
