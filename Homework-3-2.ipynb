{
 "cells": [
  {
   "cell_type": "markdown",
   "metadata": {},
   "source": [
    "# Analyzing Hotel Ratings on Tripadvisor"
   ]
  },
  {
   "cell_type": "markdown",
   "metadata": {},
   "source": [
    "In this homework, we will analyze the data we scraped in Part 1 by fitting a regression model on the data."
   ]
  },
  {
   "cell_type": "markdown",
   "metadata": {},
   "source": [
    "** Task 1 (20 pts) **\n",
    "\n",
    "Now, we will use regression to analyze this information. First, we will fit a linear regression model that predicts the average rating.\n",
    "\n",
    "For example, the average rating of a hotel is calculated as follows:\n",
    "\n",
    "![Information to be scraped](traveler_ratings.png)\n",
    "\n",
    "$$ \\text{AVG_SCORE} = \\frac{1*15 + 2*21 + 3*55 + 4*228 + 5*1271}{1590}$$\n",
    "\n",
    "Use the model to analyze the important factors that decide the $\\text{AVG_SCORE}$."
   ]
  },
  {
   "cell_type": "code",
   "execution_count": 50,
   "metadata": {
    "collapsed": false
   },
   "outputs": [],
   "source": [
    "import pandas as pd\n",
    "import matplotlib.pyplot as plt\n",
    "from sklearn import preprocessing\n",
    "from sklearn.linear_model import LinearRegression\n",
    "import sklearn.utils as utils\n",
    "import sklearn.cross_validation as cross_validation\n",
    "import statsmodels.api as sm\n",
    "\n",
    "%matplotlib inline"
   ]
  },
  {
   "cell_type": "code",
   "execution_count": 158,
   "metadata": {
    "collapsed": false,
    "scrolled": true
   },
   "outputs": [],
   "source": [
    "df = pd.read_csv('attribute-ratings-summary.csv',sep=':',names=['Hotels','Attribute','Rating','Num of Ratings'])\n",
    "# features = hotel name, attributes, rating\n",
    "# response = total number of that rating \n",
    "df = df[df.Attribute != 'Business service (e.g., internet access)']\n",
    "df = df[df.Attribute != 'Check in / front desk']\n",
    "\n",
    "# Value, Location, Sleep Quality, Rooms, Cleanliness, Service.\n",
    "# print (df)\n",
    "# print (df.shape)\n",
    "# (2425, 4)"
   ]
  },
  {
   "cell_type": "code",
   "execution_count": 54,
   "metadata": {
    "collapsed": false
   },
   "outputs": [],
   "source": [
    "def getAvgScoreForAttr(arrayOfRatings):\n",
    "#     print (arrayOfRatings)\n",
    "    num1 = arrayOfRatings[0]\n",
    "    num2 = arrayOfRatings[1]\n",
    "    num3 = arrayOfRatings[2]\n",
    "    num4 = arrayOfRatings[3]\n",
    "    num5 = arrayOfRatings[4]\n",
    "    \n",
    "    total = num1+num2+num3+num4+num5\n",
    "    num = (1*num1) + (2*num2) + (3*num3) + (4*num4) + (5*num5)\n",
    "    if (total > 0):\n",
    "        return (num/total)\n",
    "    else:\n",
    "        return 0\n",
    "    "
   ]
  },
  {
   "cell_type": "code",
   "execution_count": 55,
   "metadata": {
    "collapsed": false
   },
   "outputs": [],
   "source": [
    "def getDictOfAvgs(g):\n",
    "    ctr = 0\n",
    "    listOfNumRatings = []\n",
    "    dictOfRoomAvgs = []\n",
    "\n",
    "    listOfVals = (g.groupby('Hotels'))\n",
    "    for h,row in listOfVals:\n",
    "    #     print (h)\n",
    "        listOfRows = (row.get_values())\n",
    "#         print (listOfRows)\n",
    "        for l in listOfRows:\n",
    "            rating = l[2]\n",
    "            num = l[3]\n",
    "            listOfNumRatings.append(num)\n",
    "        avg = (getAvgScoreForAttr(listOfNumRatings))\n",
    "        dictOfRoomAvgs.append({'Average':avg,'Hotel':h,})\n",
    "        listOfNumRatings=[] \n",
    "    return(dictOfRoomAvgs)\n",
    "\n",
    "# print (temp)"
   ]
  },
  {
   "cell_type": "code",
   "execution_count": 56,
   "metadata": {
    "collapsed": false,
    "scrolled": false
   },
   "outputs": [],
   "source": [
    "#the target (or y) is the avergage score\n",
    "#Xs are the attributes we scraped\n",
    "\n",
    "roomGroup =(df.groupby(['Attribute']).get_group('Rooms'))\n",
    "locGroup =(df.groupby(['Attribute']).get_group('Location'))\n",
    "sleepGroup =(df.groupby(['Attribute']).get_group('Sleep Quality'))\n",
    "valueGroup =(df.groupby(['Attribute']).get_group('Value'))\n",
    "cleanGroup =(df.groupby(['Attribute']).get_group('Cleanliness'))\n",
    "serviceGroup =(df.groupby(['Attribute']).get_group('Service'))\n",
    "\n",
    "\n",
    "# print (len(serviceAvgs))\n",
    "# print (roomAvgs[0]['Hotel'])"
   ]
  },
  {
   "cell_type": "code",
   "execution_count": 57,
   "metadata": {
    "collapsed": true
   },
   "outputs": [],
   "source": [
    "def getAvgScoreForHotel(arrayOfRatings):\n",
    "#     print (arrayOfRatings)\n",
    "    num1 = float(arrayOfRatings[0])\n",
    "    num2 = float(arrayOfRatings[1])\n",
    "    num3 = float(arrayOfRatings[2])\n",
    "    num4 = float(arrayOfRatings[3])\n",
    "    num5 = float(arrayOfRatings[4])\n",
    "    \n",
    "    total = num1+num2+num3+num4+num5\n",
    "#     print (total)\n",
    "    num = (5*num1) + (4*num2) + (3*num3) + (2*num4) + (1*num5)\n",
    "    if (total > 0):\n",
    "        return (num/total)\n",
    "    else:\n",
    "        return 0\n",
    "    "
   ]
  },
  {
   "cell_type": "code",
   "execution_count": 58,
   "metadata": {
    "collapsed": false
   },
   "outputs": [],
   "source": [
    "def getAvgHotelRating(g):\n",
    "    ctr = 0\n",
    "    listOfNumRatings = []\n",
    "    dictOfRoomAvgs = []\n",
    "    \n",
    "    listOfVals = (g.groupby('hotel_name'))\n",
    "    for h,row in listOfVals:\n",
    "#         print (h)\n",
    "        listOfRows = (row.get_values())\n",
    "        for l in listOfRows:\n",
    "#             print (l)\n",
    "            rating = l[1]\n",
    "            num = l[2].replace(',','')\n",
    "#             print (num)\n",
    "            listOfNumRatings.append(num)\n",
    "        avg = (getAvgScoreForHotel(listOfNumRatings))\n",
    "        dictOfRoomAvgs.append({'Average':avg,'Hotel':h,})\n",
    "        listOfNumRatings=[] \n",
    "    return(dictOfRoomAvgs)"
   ]
  },
  {
   "cell_type": "code",
   "execution_count": 100,
   "metadata": {
    "collapsed": false,
    "scrolled": true
   },
   "outputs": [],
   "source": [
    "#begin manipulation of traveler csv for part 2\n",
    "def determineExcellence(df):\n",
    "    dictOfHotelExcellence = []\n",
    "    numRatings = []\n",
    "    dfGrouped = df.groupby('hotel_name')\n",
    "    for h,row in dfGrouped:\n",
    "        rowList = (row.get_values())\n",
    "        for l in rowList:\n",
    "            count = (l[2].replace(',',''))\n",
    "            numRatings.append(count)\n",
    "        xFlag = calculateExcellence(numRatings)\n",
    "#         print (xFlag)\n",
    "        dictOfHotelExcellence.append({'Excellence':xFlag, 'Hotel':h})\n",
    "        numRatings = []\n",
    "    return (dictOfHotelExcellence)\n",
    "\n",
    "def calculateExcellence(arr):\n",
    "    num1 = float(arr[0])\n",
    "    num2 = float(arr[1])\n",
    "    num3 = float(arr[2])\n",
    "    num4 = float(arr[3])\n",
    "    num5 = float(arr[4])\n",
    "\n",
    "    total = num1+num2+num3+num4+num5\n",
    "#     print (total,num1)\n",
    "    sixtyP = total * (.6)\n",
    "\n",
    "    if (num1 > sixtyP):\n",
    "        return 1\n",
    "    else:\n",
    "        return 0\n",
    "    \n"
   ]
  },
  {
   "cell_type": "code",
   "execution_count": 101,
   "metadata": {
    "collapsed": false,
    "scrolled": true
   },
   "outputs": [],
   "source": [
    "#find avg score for each hotel\n",
    "travelerDF = pd.read_csv('traverler_ratings.csv')\n",
    "# print (travelerDF)\n",
    "travelerDF = travelerDF[travelerDF.hotel_name != 'Omni Parker House']\n",
    "travelerDF = travelerDF[travelerDF.hotel_name != 'Hotel Boston']\n",
    "\n",
    " \n",
    "# for x in \n",
    "\n",
    "roomAvgs = getDictOfAvgs(roomGroup)\n",
    "locAvgs = getDictOfAvgs(locGroup)\n",
    "sleepAvgs = getDictOfAvgs(sleepGroup)\n",
    "valueAvgs = getDictOfAvgs(valueGroup)\n",
    "cleanAvgs = getDictOfAvgs(cleanGroup)\n",
    "serviceAvgs = getDictOfAvgs(serviceGroup)\n",
    "hotelAvgs = getAvgHotelRating(travelerDF)\n",
    "hotelExc = determineExcellence(travelerDF)\n",
    "# print ((hotelAvgs))\n",
    "# print (hotelExc)\n",
    "# for x in hotelAvgs:\n",
    "#     print (x['Hotel'])"
   ]
  },
  {
   "cell_type": "code",
   "execution_count": 106,
   "metadata": {
    "collapsed": false,
    "scrolled": true
   },
   "outputs": [],
   "source": [
    "# Room, Location, sleep, value, clean, service, hotel average\n",
    "temp = []\n",
    "vectorsForAllHotels=[]\n",
    "for h in zip(roomAvgs,locAvgs, sleepAvgs, valueAvgs, cleanAvgs,serviceAvgs):\n",
    "#     print (h[0]['Hotel'])\n",
    "    if (h[0]['Hotel'] !='BEST WESTERN University Hotel Boston-Brighton'):\n",
    "        if (h[0]['Hotel']=='Courtyard by Marriott Boston Logan Airport'):\n",
    "            h[0]['Hotel'] = 'Courtyard Boston Logan Airport'\n",
    "        if (h[0]['Hotel']=='Courtyard by Marriott Boston Logan Airport'):\n",
    "            h[0]['Hotel'] = 'Courtyard Boston Logan Airport'\n",
    "        if (h[0]['Hotel']=='Courtyard by Marriott Boston Copley Square'):\n",
    "            h[0]['Hotel'] = 'Courtyard Boston Copley Square'            \n",
    "        temp.append(h[0]['Hotel'])\n",
    "        for x in h:\n",
    "            temp.append(x['Average'])\n",
    "        vectorsForAllHotels.append(temp)\n",
    "    temp=[]\n",
    "    \n",
    "count = 0\n",
    "final = []\n",
    "temp = []\n",
    "yTemp = []\n",
    "yFinal = []\n",
    "yEXTemp = []\n",
    "yEXFinal = []\n",
    "for hotel in zip(vectorsForAllHotels,hotelAvgs, hotelExc):\n",
    "#     print (hotel)\n",
    "    for h in vectorsForAllHotels:\n",
    "        if (hotel[0][0] in h[0] and not('Hyatt Regency Boston' in h[0]) and not('Hyatt Regency Boston' in h[0])):\n",
    "            count+=1\n",
    "            yTemp.append(hotel[1]['Average'])\n",
    "            yEXTemp.append(hotel[2]['Excellence'])\n",
    "            temp.append(h[1:])\n",
    "        elif (h[0]==hotel[0][0]):\n",
    "            yTemp.append(hotel[1]['Average'])\n",
    "            yEXTemp.append(hotel[2]['Excellence'])\n",
    "            count+=1\n",
    "            temp.append(h[1:])\n",
    "        final+=temp\n",
    "        yFinal+=yTemp\n",
    "        yEXFinal+=yEXTemp\n",
    "        yEXTemp=[]\n",
    "        temp=[]\n",
    "        yTemp=[]"
   ]
  },
  {
   "cell_type": "code",
   "execution_count": 162,
   "metadata": {
    "collapsed": false
   },
   "outputs": [],
   "source": [
    "xDF = pd.DataFrame(final,columns=['Room','Location','Sleep','Value','Cleanlines','Service'])\n",
    "yDF = pd.DataFrame(yFinal, columns=['Average Score'])\n",
    "yEXdf = pd.DataFrame(yEXFinal, columns=['Excellence'])\n",
    "# print (yEXdf)\n",
    "# print (final)"
   ]
  },
  {
   "cell_type": "code",
   "execution_count": 164,
   "metadata": {
    "collapsed": false,
    "scrolled": true
   },
   "outputs": [
    {
     "name": "stdout",
     "output_type": "stream",
     "text": [
      "Complete dataset shape is (79, 6)\n"
     ]
    },
    {
     "data": {
      "text/plain": [
       "<matplotlib.collections.PathCollection at 0x11b7407f0>"
      ]
     },
     "execution_count": 164,
     "metadata": {},
     "output_type": "execute_result"
    },
    {
     "data": {
      "image/png": "[encoded data removed]",
      "text/plain": [
       "<matplotlib.figure.Figure at 0x11abb4d30>"
      ]
     },
     "metadata": {},
     "output_type": "display_data"
    }
   ],
   "source": [
    "X_Trip = xDF[['Room','Location','Sleep','Value','Cleanlines','Service']]\n",
    "print('Complete dataset shape is {}'.format(X_Trip.shape))\n",
    "Y_Trip = yDF\n",
    "plt.scatter(range(len(Y_Trip)), Y_Trip, c=\"slategray\", alpha=0.3, linewidths=0.2)\n",
    "# print (X_Trip)"
   ]
  },
  {
   "cell_type": "code",
   "execution_count": 45,
   "metadata": {
    "collapsed": false
   },
   "outputs": [
    {
     "name": "stdout",
     "output_type": "stream",
     "text": [
      "(47, 6) (47, 1)\n",
      "(32, 6) (32, 1)\n"
     ]
    }
   ],
   "source": [
    "X_Trip,Y_Trip = utils.shuffle(X_Trip,Y_Trip,random_state=1)\n",
    "X_Trip_train,X_Trip_test,Y_Trip_train,Y_Trip_test = cross_validation.train_test_split(X_Trip,Y_Trip,test_size=.4,random_state=0)\n",
    "\n",
    "print((X_Trip_train.shape),Y_Trip_train.shape)\n",
    "print ((X_Trip_test.shape),Y_Trip_test.shape)"
   ]
  },
  {
   "cell_type": "code",
   "execution_count": 165,
   "metadata": {
    "collapsed": false
   },
   "outputs": [
    {
     "data": {
      "image/png": "[encoded data removed]",
      "text/plain": [
       "<matplotlib.figure.Figure at 0x11b3c2710>"
      ]
     },
     "metadata": {},
     "output_type": "display_data"
    }
   ],
   "source": [
    "fig, axes = plt.subplots(2,3,figsize=(15,10))\n",
    "\n",
    "for i in range(6):\n",
    "    plt_i = i // 3\n",
    "    plt_j = i % 3\n",
    "    subX_train = X_Trip_train[X_Trip_train.columns[i]]\n",
    "    # plt.subplot(2, 4, 1 + i)\n",
    "    axes[plt_i][plt_j].scatter(subX_train, Y_Trip_train, c=\"slategray\", alpha=0.4, linewidths=0.3)\n",
    "    #plt.scatter(subX_test, y_test)\n",
    "    axes[plt_i][plt_j].set_xlabel(X_Trip_train.columns[i])\n",
    "    axes[plt_i][plt_j].set_ylabel('Average'); \n"
   ]
  },
  {
   "cell_type": "code",
   "execution_count": 49,
   "metadata": {
    "collapsed": false
   },
   "outputs": [
    {
     "name": "stdout",
     "output_type": "stream",
     "text": [
      "                            OLS Regression Results                            \n",
      "==============================================================================\n",
      "Dep. Variable:          Average Score   R-squared:                       0.994\n",
      "Model:                            OLS   Adj. R-squared:                  0.994\n",
      "Method:                 Least Squares   F-statistic:                     1201.\n",
      "Date:                Fri, 18 Nov 2016   Prob (F-statistic):           2.02e-44\n",
      "Time:                        02:22:30   Log-Likelihood:                -11.188\n",
      "No. Observations:                  47   AIC:                             34.38\n",
      "Df Residuals:                      41   BIC:                             45.48\n",
      "Df Model:                           6                                         \n",
      "Covariance Type:            nonrobust                                         \n",
      "==============================================================================\n",
      "                 coef    std err          t      P>|t|      [95.0% Conf. Int.]\n",
      "------------------------------------------------------------------------------\n",
      "Room          -0.3112      0.393     -0.792      0.433        -1.104     0.482\n",
      "Location       0.0483      0.141      0.342      0.734        -0.237     0.334\n",
      "Sleep          0.0140      0.452      0.031      0.975        -0.898     0.926\n",
      "Value          0.0197      0.255      0.077      0.939        -0.495     0.535\n",
      "Cleanlines     1.0410      0.429      2.428      0.020         0.175     1.907\n",
      "Service        0.1082      0.394      0.275      0.785        -0.687     0.903\n",
      "==============================================================================\n",
      "Omnibus:                       26.635   Durbin-Watson:                   2.316\n",
      "Prob(Omnibus):                  0.000   Jarque-Bera (JB):              122.011\n",
      "Skew:                          -1.114   Prob(JB):                     3.20e-27\n",
      "Kurtosis:                      10.572   Cond. No.                         125.\n",
      "==============================================================================\n",
      "\n",
      "Warnings:\n",
      "[1] Standard Errors assume that the covariance matrix of the errors is correctly specified.\n"
     ]
    }
   ],
   "source": [
    "model = sm.OLS(Y_Trip_train, X_Trip_train)\n",
    "results = model.fit()\n",
    "print(results.summary())"
   ]
  },
  {
   "cell_type": "markdown",
   "metadata": {},
   "source": [
    "Use the model to analyze the important factors that decide the $\\text{AVG_SCORE}$."
   ]
  },
  {
   "cell_type": "markdown",
   "metadata": {},
   "source": [
    "For this model, the average score of each hotel is the dependent variable and the independent variables are the average scores for room, location, sleep, value, cleanliness, and service for each hotel.\n",
    "\n",
    "The 95% confidence intervals show that cleanliness is the only significant independent variable. So this means that cleanliness is the important factor that decides average score.\n",
    "\n",
    "If we also look at the p values, we see that both room and cleanliness have a p value less than point 5, which means that room could be significant also. But this really shows us that cleanliness is definitely significamnt for the average score.\n",
    "\n",
    "The R-squared variable is 99.4% which means that we can use our regression equation to make very acurate predictions.\n",
    "\n"
   ]
  },
  {
   "cell_type": "markdown",
   "metadata": {},
   "source": [
    "-------"
   ]
  },
  {
   "cell_type": "markdown",
   "metadata": {},
   "source": [
    "** Task 2 (30 pts) **\n",
    "\n",
    "Finally, we will use logistic regression to decide if a hotel is _excellent_ or not. We classify a hotel as _excellent_ if more than **60%** of its ratings are 5 stars. This is a binary attribute on which we can fit a logistic regression model. As before, use the model to analyze the data."
   ]
  },
  {
   "cell_type": "code",
   "execution_count": 167,
   "metadata": {
    "collapsed": false,
    "scrolled": true
   },
   "outputs": [
    {
     "name": "stdout",
     "output_type": "stream",
     "text": [
      "        Room  Location     Sleep     Value  Cleanlines   Service\n",
      "0   3.800000  4.250000  4.500000  4.000000    4.166667  3.909091\n",
      "1   2.714286  2.636364  3.000000  2.857143    2.769231  2.428571\n",
      "2   4.413695  4.760900  4.257824  4.027451    4.633113  4.379888\n",
      "3   4.077259  3.261905  3.929245  3.969231    4.185028  4.103750\n",
      "4   4.563265  4.595687  4.579580  4.045872    4.729730  4.502227\n",
      "5   3.868421  4.803571  3.956522  3.731707    4.384615  4.238095\n",
      "6   4.701031  4.818182  4.710259  4.265269    4.824275  4.800151\n",
      "7   3.427338  4.443252  3.852670  3.736917    3.815451  3.891148\n",
      "8   4.040532  4.719094  4.209266  3.677065    4.386243  4.122093\n",
      "9   4.186155  4.859583  4.268608  3.758840    4.496833  4.377953\n",
      "10  3.133301  4.583187  3.613716  3.251429    3.714756  3.603316\n",
      "11  3.745787  4.403090  3.992366  3.996159    4.336352  4.174208\n",
      "12  3.879046  4.821839  4.101744  4.185127    4.508972  4.241379\n",
      "13  3.970395  4.663377  4.174931  4.118393    4.419456  4.170645\n",
      "14  4.419118  4.768481  4.560390  4.183531    4.578320  4.525704\n",
      "15  3.466942  3.147679  3.534392  3.459459    3.762646  3.628931\n",
      "16  3.105114  3.725543  3.410596  3.618037    3.447368  3.448661\n",
      "17  3.513699  4.549839  3.795918  3.890282    3.743590  3.810219\n",
      "18  4.131519  4.815944  4.375157  4.103158    4.604575  4.502752\n",
      "19  2.869969  4.145161  3.208861  3.117735    3.636364  3.729625\n",
      "20  4.250000  3.525926  4.191388  4.007194    4.368056  4.039660\n",
      "21  4.476773  4.844471  4.552743  4.321788    4.683146  4.692500\n",
      "22  3.829201  3.927614  3.903125  3.539894    4.121053  3.900648\n",
      "23  2.848889  3.435407  3.129730  2.977876    2.923767  3.148305\n",
      "24  3.966025  3.610609  4.075000  3.765540    4.193998  4.050476\n",
      "25  4.246334  3.908999  4.209622  3.920233    4.368780  4.260680\n",
      "26  4.384778  4.395918  4.356522  3.981211    4.606695  4.366097\n",
      "27  4.500000  4.732113  4.500000  4.000000    5.000000  4.200000\n",
      "28  4.368679  4.212605  4.493976  4.018433    4.562009  4.533888\n",
      "29  4.194239  4.848338  4.256731  3.921615    4.325472  4.149183\n",
      "..       ...       ...       ...       ...         ...       ...\n",
      "49  2.732026  4.842105  3.313305  3.296774    3.498361  3.328000\n",
      "50  4.078804  4.826860  4.281746  4.098930    4.457534  4.094808\n",
      "51  4.485314  4.311141  4.584691  4.168889    4.681500  4.614815\n",
      "52  4.033962  3.273438  4.349917  3.921021    4.501809  4.474849\n",
      "53  3.085520  4.058583  3.295597  3.225837    3.341627  3.451786\n",
      "54  4.302326  4.760490  4.343260  3.806536    4.652850  4.292657\n",
      "55  4.613596  4.602273  4.568134  4.247423    4.798574  4.672368\n",
      "56  4.778378  4.425000  4.515924  4.252941    4.859756  4.649805\n",
      "57  4.387387  4.727111  4.445055  4.186695    4.551253  4.548780\n",
      "58  4.494197  4.604000  4.426230  4.152461    4.598225  4.485714\n",
      "59  4.673224  4.615776  4.711824  4.330104    4.827046  4.734213\n",
      "60  4.045226  4.844660  4.286472  3.840647    4.364286  4.194748\n",
      "61  4.121608  4.500986  4.376764  3.848948    4.400939  4.277820\n",
      "62  2.908560  4.849105  3.671024  3.451550    3.360465  3.653355\n",
      "63  4.250304  4.592357  4.236559  3.857809    4.476813  4.265107\n",
      "64  4.189024  4.600000  4.405694  4.187692    4.636095  4.532443\n",
      "65  4.500000  4.878261  4.205128  3.866667    4.735294  4.455556\n",
      "66  4.660550  4.843990  4.706422  4.549550    4.919643  4.813953\n",
      "67  4.646753  4.545614  4.467128  4.401496    4.590909  4.404206\n",
      "68  3.914855  4.606374  4.087760  3.888889    4.193929  4.268759\n",
      "69  4.420784  4.501623  4.529472  4.035626    4.709836  4.545392\n",
      "70  4.199336  4.548350  4.218924  3.779690    4.491803  4.299194\n",
      "71  3.556054  4.539043  3.881084  3.978571    3.964699  4.078500\n",
      "72  4.349010  4.621212  4.552870  3.834884    4.644028  4.451292\n",
      "73  4.570093  3.703704  4.466258  4.325472    4.700483  4.643172\n",
      "74  4.220099  4.806156  4.448423  3.714765    4.479014  4.210381\n",
      "75  4.290994  4.517647  4.497455  3.863476    4.443006  4.279339\n",
      "76  4.260982  4.522851  4.262784  3.754057    4.582310  4.357430\n",
      "77  3.999219  4.848185  4.125701  3.660783    4.240154  4.060478\n",
      "78  4.692790  4.150000  4.734177  4.193303    4.780597  4.706983\n",
      "\n",
      "[79 rows x 6 columns]\n"
     ]
    }
   ],
   "source": [
    "#I calculated the binary attribute in part 1\n",
    "print (xDF)\n",
    "# print (yEXdf)"
   ]
  },
  {
   "cell_type": "code",
   "execution_count": 114,
   "metadata": {
    "collapsed": false
   },
   "outputs": [
    {
     "name": "stdout",
     "output_type": "stream",
     "text": [
      "Optimization terminated successfully.\n",
      "         Current function value: 0.561392\n",
      "         Iterations 6\n"
     ]
    }
   ],
   "source": [
    "logit = sm.Logit(yEXdf, xDF)\n",
    "result = logit.fit() \n"
   ]
  },
  {
   "cell_type": "code",
   "execution_count": 115,
   "metadata": {
    "collapsed": false
   },
   "outputs": [
    {
     "data": {
      "text/html": [
       "<table class=\"simpletable\">\n",
       "<caption>Logit Regression Results</caption>\n",
       "<tr>\n",
       "  <th>Dep. Variable:</th>    <td>Excellence</td>    <th>  No. Observations:  </th>  <td>    79</td> \n",
       "</tr>\n",
       "<tr>\n",
       "  <th>Model:</th>               <td>Logit</td>      <th>  Df Residuals:      </th>  <td>    73</td> \n",
       "</tr>\n",
       "<tr>\n",
       "  <th>Method:</th>               <td>MLE</td>       <th>  Df Model:          </th>  <td>     5</td> \n",
       "</tr>\n",
       "<tr>\n",
       "  <th>Date:</th>          <td>Fri, 18 Nov 2016</td> <th>  Pseudo R-squ.:     </th>  <td>0.1006</td> \n",
       "</tr>\n",
       "<tr>\n",
       "  <th>Time:</th>              <td>11:42:01</td>     <th>  Log-Likelihood:    </th> <td> -44.350</td>\n",
       "</tr>\n",
       "<tr>\n",
       "  <th>converged:</th>           <td>True</td>       <th>  LL-Null:           </th> <td> -49.309</td>\n",
       "</tr>\n",
       "<tr>\n",
       "  <th> </th>                      <td> </td>        <th>  LLR p-value:       </th>  <td>0.07757</td>\n",
       "</tr>\n",
       "</table>\n",
       "<table class=\"simpletable\">\n",
       "<tr>\n",
       "       <td></td>         <th>coef</th>     <th>std err</th>      <th>z</th>      <th>P>|z|</th> <th>[95.0% Conf. Int.]</th> \n",
       "</tr>\n",
       "<tr>\n",
       "  <th>Room</th>       <td>    3.1421</td> <td>    2.114</td> <td>    1.486</td> <td> 0.137</td> <td>   -1.002     7.286</td>\n",
       "</tr>\n",
       "<tr>\n",
       "  <th>Location</th>   <td>   -0.9977</td> <td>    0.611</td> <td>   -1.632</td> <td> 0.103</td> <td>   -2.196     0.201</td>\n",
       "</tr>\n",
       "<tr>\n",
       "  <th>Sleep</th>      <td>   -0.5144</td> <td>    2.252</td> <td>   -0.228</td> <td> 0.819</td> <td>   -4.928     3.899</td>\n",
       "</tr>\n",
       "<tr>\n",
       "  <th>Value</th>      <td>   -1.6329</td> <td>    1.605</td> <td>   -1.017</td> <td> 0.309</td> <td>   -4.779     1.513</td>\n",
       "</tr>\n",
       "<tr>\n",
       "  <th>Cleanlines</th> <td>   -3.5104</td> <td>    2.976</td> <td>   -1.180</td> <td> 0.238</td> <td>   -9.343     2.322</td>\n",
       "</tr>\n",
       "<tr>\n",
       "  <th>Service</th>    <td>    3.4396</td> <td>    2.316</td> <td>    1.485</td> <td> 0.137</td> <td>   -1.099     7.978</td>\n",
       "</tr>\n",
       "</table>"
      ],
      "text/plain": [
       "<class 'statsmodels.iolib.summary.Summary'>\n",
       "\"\"\"\n",
       "                           Logit Regression Results                           \n",
       "==============================================================================\n",
       "Dep. Variable:             Excellence   No. Observations:                   79\n",
       "Model:                          Logit   Df Residuals:                       73\n",
       "Method:                           MLE   Df Model:                            5\n",
       "Date:                Fri, 18 Nov 2016   Pseudo R-squ.:                  0.1006\n",
       "Time:                        11:42:01   Log-Likelihood:                -44.350\n",
       "converged:                       True   LL-Null:                       -49.309\n",
       "                                        LLR p-value:                   0.07757\n",
       "==============================================================================\n",
       "                 coef    std err          z      P>|z|      [95.0% Conf. Int.]\n",
       "------------------------------------------------------------------------------\n",
       "Room           3.1421      2.114      1.486      0.137        -1.002     7.286\n",
       "Location      -0.9977      0.611     -1.632      0.103        -2.196     0.201\n",
       "Sleep         -0.5144      2.252     -0.228      0.819        -4.928     3.899\n",
       "Value         -1.6329      1.605     -1.017      0.309        -4.779     1.513\n",
       "Cleanlines    -3.5104      2.976     -1.180      0.238        -9.343     2.322\n",
       "Service        3.4396      2.316      1.485      0.137        -1.099     7.978\n",
       "==============================================================================\n",
       "\"\"\""
      ]
     },
     "execution_count": 115,
     "metadata": {},
     "output_type": "execute_result"
    }
   ],
   "source": [
    "result.summary()"
   ]
  },
  {
   "cell_type": "markdown",
   "metadata": {},
   "source": [
    "As before, use the model to analyze the data:\n",
    "\n",
    "For this model, the binary value determining hotel excellence is the dependent variable and the independent variables are the average scores for room, location, sleep, value, cleanliness, and service for each hotel.\n",
    "\n",
    "The 95% confidence intervals show that there are no significant confidence intervals since each confidence interval contains 0.\n",
    "\n",
    "But, if we also look at the p values, we see that room, location, value, cleanliness, and service all have p values that are less than .5 which means that these attributes could be significant in determining whether a hotel is significant.\n",
    "\n",
    "The psuedo r squared value is .1006 which means that we are not too confident that our equation can be used to correctly predict hotel excellence.\n",
    "\n"
   ]
  },
  {
   "cell_type": "code",
   "execution_count": 129,
   "metadata": {
    "collapsed": false
   },
   "outputs": [],
   "source": [
    "r = xDF.Room.mean()\n",
    "l = xDF.Location.mean()\n",
    "s = xDF.Sleep.mean()\n",
    "v = xDF.Value.mean()\n",
    "c = xDF.Cleanlines.mean()\n",
    "ser = xDF.Service.mean()"
   ]
  },
  {
   "cell_type": "code",
   "execution_count": null,
   "metadata": {
    "collapsed": false
   },
   "outputs": [],
   "source": []
  },
  {
   "cell_type": "code",
   "execution_count": null,
   "metadata": {
    "collapsed": true
   },
   "outputs": [],
   "source": []
  },
  {
   "cell_type": "markdown",
   "metadata": {},
   "source": [
    "-------"
   ]
  }
 ],
 "metadata": {
  "anaconda-cloud": {},
  "kernelspec": {
   "display_name": "Python [conda root]",
   "language": "python",
   "name": "conda-root-py"
  },
  "language_info": {
   "codemirror_mode": {
    "name": "ipython",
    "version": 3
   },
   "file_extension": ".py",
   "mimetype": "text/x-python",
   "name": "python",
   "nbconvert_exporter": "python",
   "pygments_lexer": "ipython3",
   "version": "3.5.2"
  }
 },
 "nbformat": 4,
 "nbformat_minor": 0
}
