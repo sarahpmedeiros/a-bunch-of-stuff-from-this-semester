{
 "cells": [
  {
   "cell_type": "code",
   "execution_count": 1,
   "metadata": {
    "collapsed": true
   },
   "outputs": [],
   "source": [
    "from bs4 import BeautifulSoup\n",
    "import sys\n",
    "import time\n",
    "import os\n",
    "import requests\n",
    "import codecs\n",
    "import json\n",
    "import csv\n",
    "import pandas as pd\n",
    "\n",
    "site_url = \"https://www1.eeoc.gov/\"\n",
    "base_url = \"https://www1.eeoc.gov/eeoc/statistics/employment/jobpat-eeo1\"\n",
    "\n",
    "def get_page(url):\n",
    "    response = requests.get(url)\n",
    "    html = response.text.encode('utf-8')\n",
    "    return html\n"
   ]
  },
  {
   "cell_type": "code",
   "execution_count": 2,
   "metadata": {
    "collapsed": false
   },
   "outputs": [],
   "source": [
    "def get_reports_page(url):\n",
    "    url = url + \"eeoc/statistics/employment/jobpat-eeo1\"\n",
    "    html = get_page(url)\n",
    "    soup = BeautifulSoup(html, 'html.parser')\n",
    "    all_reports = soup.find('div', {'class': 'CS_Textblock_Text'}).find('ul').find_all('a')\n",
    "    for report in all_reports:\n",
    "        year = report.text.split(\" \")\n",
    "        if year[0] != \"Glossary\":\n",
    "            if int(year[0]) >= 2005 and int(year[0]) <= 2006:\n",
    "                print(year[0])\n",
    "                report_url = site_url + report['href']\n",
    "                parse_report_page(report_url, year[0])    "
   ]
  },
  {
   "cell_type": "code",
   "execution_count": 3,
   "metadata": {
    "collapsed": true
   },
   "outputs": [],
   "source": [
    "def parse_report_page(url,year):\n",
    "    html = get_page(url)\n",
    "    soup = BeautifulSoup(html, 'html.parser')    \n",
    "    links = soup.find('ul').find_all('a', text='NAICS-2 Aggregate')\n",
    "    for link in links:\n",
    "        industry_url = base_url + \"/\"+  year  +\"/\" + link['href']\n",
    "        get_industry_page(industry_url)\n",
    "    \n",
    "    "
   ]
  },
  {
   "cell_type": "code",
   "execution_count": 5,
   "metadata": {
    "collapsed": false
   },
   "outputs": [],
   "source": [
    "def get_industry_page(url):\n",
    "    html = get_page(url)\n",
    "    soup = BeautifulSoup(html, 'html.parser')\n",
    "    industries = soup.find('body').find('table').find_all('a',href=True)\n",
    "    stripped_url = url.split('index.html')\n",
    "    for industry in industries:\n",
    "        industry_url = stripped_url[0] + industry['href']\n",
    "#        industry_url = stripped_url[0] + industry['href']\n",
    "        #print(industry_url)\n",
    "        parse_industry(industry_url)"
   ]
  },
  {
   "cell_type": "code",
   "execution_count": 6,
   "metadata": {
    "collapsed": false
   },
   "outputs": [],
   "source": [
    "def parse_industry(url):\n",
    "#     print(url)\n",
    "    html = get_page(url)\n",
    "    splitURl = (os.path.splitext(url)[0].split('/'))\n",
    "    fileName = splitURl[7] +'-'+ splitURl[8]+'-'+splitURl[9]\n",
    "    print(fileName)\n",
    "    parseHTML(html,fileName)\n",
    "\n",
    "    "
   ]
  },
  {
   "cell_type": "code",
   "execution_count": 7,
   "metadata": {
    "collapsed": true
   },
   "outputs": [],
   "source": [
    "def parseHTML(x,fileName):\n",
    "    \n",
    "    soup = BeautifulSoup((x),'html.parser')\n",
    "    table = (soup.select('table'))[0]\n",
    "    tableHeader = table.findAll('th',{'scope':'col'})\n",
    "\n",
    "    headerRow = []\n",
    "    for x in tableHeader:\n",
    "        headerRow.append(x.text)\n",
    "    \n",
    "    body = (table.select('tbody'))\n",
    "    temp=[]\n",
    "    rows = []\n",
    "    for h in body:\n",
    "        row = (h.findAll('tr'))\n",
    "        for r in row:\n",
    "            temp.append((r.find('th').text))\n",
    "            values = (r.select('td'))\n",
    "            for v in values:\n",
    "                temp.append(v.text)\n",
    "            rows.append(temp)\n",
    "            temp=[]\n",
    "\n",
    "    with open(fileName, 'w') as f:\n",
    "        writer = csv.writer(f,delimiter=',')\n",
    "        writer.writerow([headerRow[0],headerRow[1],headerRow[2],headerRow[3],headerRow[4],headerRow[5],headerRow[6],headerRow[7],headerRow[8],headerRow[9],headerRow[10]])\n",
    "        for x in rows:\n",
    "            if (len(x)==11):\n",
    "                writer.writerow([x[0], x[1], x[2], x[3], x[4], x[5], x[6], x[7], x[8], x[9],x[10]])"
   ]
  },
  {
   "cell_type": "code",
   "execution_count": 11,
   "metadata": {
    "collapsed": false
   },
   "outputs": [
    {
     "name": "stdout",
     "output_type": "stream",
     "text": [
      "2006\n",
      "2006-nac2-11\n",
      "2006-nac2-21\n",
      "2006-nac2-22\n",
      "2006-nac2-23\n",
      "2006-nac2-31\n",
      "2006-nac2-32\n",
      "2006-nac2-33\n",
      "2006-nac2-42\n",
      "2006-nac2-44\n",
      "2006-nac2-45\n",
      "2006-nac2-48\n",
      "2006-nac2-49\n",
      "2006-nac2-51\n",
      "2006-nac2-52\n",
      "2006-nac2-53\n",
      "2006-nac2-54\n",
      "2006-nac2-55\n",
      "2006-nac2-56\n",
      "2006-nac2-61\n",
      "2006-nac2-62\n",
      "2006-nac2-71\n",
      "2006-nac2-72\n",
      "2006-nac2-81\n",
      "2006-nac2-92\n",
      "2005\n",
      "2005-nac2-11\n",
      "2005-nac2-21\n",
      "2005-nac2-22\n",
      "2005-nac2-23\n",
      "2005-nac2-31\n",
      "2005-nac2-32\n",
      "2005-nac2-33\n",
      "2005-nac2-42\n",
      "2005-nac2-44\n",
      "2005-nac2-45\n",
      "2005-nac2-48\n",
      "2005-nac2-49\n",
      "2005-nac2-51\n",
      "2005-nac2-52\n",
      "2005-nac2-53\n",
      "2005-nac2-54\n",
      "2005-nac2-55\n",
      "2005-nac2-56\n",
      "2005-nac2-61\n",
      "2005-nac2-62\n",
      "2005-nac2-71\n",
      "2005-nac2-72\n",
      "2005-nac2-81\n",
      "2005-nac2-92\n"
     ]
    }
   ],
   "source": [
    "get_reports_page(site_url)"
   ]
  },
  {
   "cell_type": "code",
   "execution_count": 41,
   "metadata": {
    "collapsed": true
   },
   "outputs": [],
   "source": []
  },
  {
   "cell_type": "code",
   "execution_count": null,
   "metadata": {
    "collapsed": false
   },
   "outputs": [],
   "source": []
  },
  {
   "cell_type": "code",
   "execution_count": null,
   "metadata": {
    "collapsed": true
   },
   "outputs": [],
   "source": []
  }
 ],
 "metadata": {
  "anaconda-cloud": {},
  "kernelspec": {
   "display_name": "Python [conda root]",
   "language": "python",
   "name": "conda-root-py"
  },
  "language_info": {
   "codemirror_mode": {
    "name": "ipython",
    "version": 3
   },
   "file_extension": ".py",
   "mimetype": "text/x-python",
   "name": "python",
   "nbconvert_exporter": "python",
   "pygments_lexer": "ipython3",
   "version": "3.5.2"
  }
 },
 "nbformat": 4,
 "nbformat_minor": 0
}
